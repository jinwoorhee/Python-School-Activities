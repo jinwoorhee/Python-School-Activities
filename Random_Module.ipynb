{
  "nbformat": 4,
  "nbformat_minor": 0,
  "metadata": {
    "colab": {
      "provenance": []
    },
    "kernelspec": {
      "name": "python3",
      "display_name": "Python 3"
    },
    "language_info": {
      "name": "python"
    }
  },
  "cells": [
    {
      "cell_type": "markdown",
      "source": [
        "Generate Random Numbers"
      ],
      "metadata": {
        "id": "Val3lgZmUskY"
      }
    },
    {
      "cell_type": "code",
      "source": [
        "import random\n",
        "\n",
        "# Generate a random integer between 1 and 100\n",
        "random_integer = random.randint(1, 100)\n",
        "print(f\"Random Integer: {random_integer}\")\n",
        "\n",
        "# Generate a random float between 0 and 1\n",
        "random_float = random.random()\n",
        "print(f\"Random Float: {random_float}\")\n",
        "\n",
        "# Generate a random float between 5 and 10\n",
        "random_uniform = random.uniform(5, 10)\n",
        "print(f\"Random Float between 5 and 10: {random_uniform}\")\n"
      ],
      "metadata": {
        "colab": {
          "base_uri": "https://localhost:8080/"
        },
        "id": "WIbqyMXBSvdA",
        "outputId": "0e5904e7-c6de-4bb7-f1a4-d44cf79843f9"
      },
      "execution_count": 12,
      "outputs": [
        {
          "output_type": "stream",
          "name": "stdout",
          "text": [
            "Random Integer: 55\n",
            "Random Float: 0.5200142254824164\n",
            "Random Float between 5 and 10: 5.071135026755139\n"
          ]
        }
      ]
    },
    {
      "cell_type": "markdown",
      "source": [
        "Randomly Shuffle a List"
      ],
      "metadata": {
        "id": "I9AhtMFlUyd1"
      }
    },
    {
      "cell_type": "code",
      "source": [
        "import random\n",
        "\n",
        "# Create a list of items\n",
        "items = ['apple', 'banana', 'cherry', 'date', 'elderberry']\n",
        "\n",
        "# Shuffle the list randomly\n",
        "random.shuffle(items)\n",
        "print(f\"Shuffled List: {items}\")"
      ],
      "metadata": {
        "colab": {
          "base_uri": "https://localhost:8080/"
        },
        "id": "fy5VkhWaSyWA",
        "outputId": "206e3fa5-69c1-4940-ff4f-2eb7905a916d"
      },
      "execution_count": 13,
      "outputs": [
        {
          "output_type": "stream",
          "name": "stdout",
          "text": [
            "Shuffled List: ['elderberry', 'date', 'banana', 'cherry', 'apple']\n"
          ]
        }
      ]
    },
    {
      "cell_type": "markdown",
      "source": [
        "Random Choice from a List"
      ],
      "metadata": {
        "id": "szBQqRuGU3-y"
      }
    },
    {
      "cell_type": "code",
      "source": [
        "import random\n",
        "\n",
        "# Create a list of students\n",
        "students = ['Alice', 'Bob', 'Charlie', 'David', 'Eva']\n",
        "\n",
        "# Pick a random student\n",
        "selected_student = random.choice(students)\n",
        "print(f\"Selected Student: {selected_student}\")\n"
      ],
      "metadata": {
        "colab": {
          "base_uri": "https://localhost:8080/"
        },
        "id": "NpY5fyGtUYkI",
        "outputId": "6ae2c8f8-4397-4a48-a8ef-065c35e081ca"
      },
      "execution_count": 14,
      "outputs": [
        {
          "output_type": "stream",
          "name": "stdout",
          "text": [
            "Selected Student: Eva\n"
          ]
        }
      ]
    },
    {
      "cell_type": "markdown",
      "source": [
        "Simulate a Coin Toss"
      ],
      "metadata": {
        "id": "fs5EQA3mU8OH"
      }
    },
    {
      "cell_type": "code",
      "source": [
        "import random\n",
        "\n",
        "# Simulate a coin toss\n",
        "coin_toss = random.choice(['Heads', 'Tails'])\n",
        "print(f\"Coin Toss Result: {coin_toss}\")\n"
      ],
      "metadata": {
        "colab": {
          "base_uri": "https://localhost:8080/"
        },
        "id": "Ui6QMe_uSzk9",
        "outputId": "9e16cdb7-4ee6-4dda-d7aa-c203821731cc"
      },
      "execution_count": 15,
      "outputs": [
        {
          "output_type": "stream",
          "name": "stdout",
          "text": [
            "Coin Toss Result: Tails\n"
          ]
        }
      ]
    },
    {
      "cell_type": "markdown",
      "source": [
        "Dice Roll Simulation"
      ],
      "metadata": {
        "id": "tvzo1AueVAji"
      }
    },
    {
      "cell_type": "code",
      "execution_count": 16,
      "metadata": {
        "id": "J60B5-yTEXXm",
        "colab": {
          "base_uri": "https://localhost:8080/"
        },
        "outputId": "db93baff-6dfd-4da9-91eb-6d8885fed502"
      },
      "outputs": [
        {
          "output_type": "stream",
          "name": "stdout",
          "text": [
            "Dice Roll Result: 1\n"
          ]
        }
      ],
      "source": [
        "import random\n",
        "\n",
        "# Simulate rolling a six-sided die\n",
        "dice_roll = random.randint(1, 6)\n",
        "print(f\"Dice Roll Result: {dice_roll}\")"
      ]
    },
    {
      "cell_type": "markdown",
      "source": [
        "Simple Random Password Generator"
      ],
      "metadata": {
        "id": "HAEdA119VDhZ"
      }
    },
    {
      "cell_type": "code",
      "source": [
        "import random\n",
        "import string\n",
        "\n",
        "# Define the characters to use in the password\n",
        "characters = string.ascii_letters + string.digits + string.punctuation\n",
        "\n",
        "# Generate a random password of length 10\n",
        "password_length = 10\n",
        "random_password = ''.join(random.choices(characters, k=password_length))\n",
        "\n",
        "print(f\"Generated Password: {random_password}\")\n"
      ],
      "metadata": {
        "id": "57ZCmtZ9FHwX",
        "colab": {
          "base_uri": "https://localhost:8080/"
        },
        "outputId": "ae513291-e271-4227-b32a-96f71842ba05"
      },
      "execution_count": 17,
      "outputs": [
        {
          "output_type": "stream",
          "name": "stdout",
          "text": [
            "Generated Password: GgV{QK`Rgs\n"
          ]
        }
      ]
    },
    {
      "cell_type": "markdown",
      "source": [
        "Simple Lottery Number Generator"
      ],
      "metadata": {
        "id": "pM0JhoxvVJee"
      }
    },
    {
      "cell_type": "code",
      "source": [
        "import random\n",
        "\n",
        "# Generate 6 random lottery numbers between 1 and 49\n",
        "lottery_numbers = random.sample(range(1, 50), 6)\n",
        "print(f\"Lottery Numbers: {lottery_numbers}\")\n"
      ],
      "metadata": {
        "id": "W9_dTspwHWw5",
        "colab": {
          "base_uri": "https://localhost:8080/"
        },
        "outputId": "3cfad1a3-09ca-42f1-e657-ac1ebde0c504"
      },
      "execution_count": 18,
      "outputs": [
        {
          "output_type": "stream",
          "name": "stdout",
          "text": [
            "Lottery Numbers: [36, 2, 18, 28, 46, 44]\n"
          ]
        }
      ]
    },
    {
      "cell_type": "markdown",
      "source": [
        "Simulate a Rock-Paper-Scissors Game"
      ],
      "metadata": {
        "id": "bfYD_mBEVMJ_"
      }
    },
    {
      "cell_type": "code",
      "source": [
        "import random\n",
        "\n",
        "# Define the options\n",
        "options = ['Rock', 'Paper', 'Scissors']\n",
        "\n",
        "# Get the user's choice\n",
        "user_choice = input(\"Choose Rock, Paper, or Scissors: \").capitalize()\n",
        "\n",
        "# Get the computer's choice\n",
        "computer_choice = random.choice(options)\n",
        "\n",
        "# Determine the winner\n",
        "if user_choice == computer_choice:\n",
        "    result = \"It's a tie!\"\n",
        "elif (user_choice == 'Rock' and computer_choice == 'Scissors') or \\\n",
        "     (user_choice == 'Paper' and computer_choice == 'Rock') or \\\n",
        "     (user_choice == 'Scissors' and computer_choice == 'Paper'):\n",
        "    result = \"You win!\"\n",
        "else:\n",
        "    result = \"Computer wins!\"\n",
        "\n",
        "print(f\"Your choice: {user_choice}, Computer's choice: {computer_choice}\")\n",
        "print(result)\n"
      ],
      "metadata": {
        "colab": {
          "base_uri": "https://localhost:8080/"
        },
        "id": "lL9l_8-BVOWS",
        "outputId": "50b37b94-b476-442c-ae70-87b1bf9476cd"
      },
      "execution_count": 19,
      "outputs": [
        {
          "output_type": "stream",
          "name": "stdout",
          "text": [
            "Choose Rock, Paper, or Scissors: Rock\n",
            "Your choice: Rock, Computer's choice: Rock\n",
            "It's a tie!\n"
          ]
        }
      ]
    }
  ]
}