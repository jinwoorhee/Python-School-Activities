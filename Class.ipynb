{
 "cells": [
  {
   "cell_type": "code",
   "execution_count": 16,
   "id": "09d31bab",
   "metadata": {},
   "outputs": [],
   "source": [
    "class Cookie:\n",
    "    \n",
    "    def __init__(self, is_warm):\n",
    "        self.__is_warm = is_warm\n",
    "        self.__is_crunchy = is_crunchy\n",
    "        print(\"Hello World. It's August 7\")\n",
    "        \n",
    "    def IsMyCookieWarm(self):\n",
    "        return self.__is_warm\n",
    "    def IsMyCookieCrunchy(self):\n",
    "        return self.__is_crunchy"
   ]
  },
  {
   "cell_type": "code",
   "execution_count": 17,
   "id": "737ccba5",
   "metadata": {},
   "outputs": [
    {
     "ename": "NameError",
     "evalue": "name 'is_crunchy' is not defined",
     "output_type": "error",
     "traceback": [
      "\u001b[0;31m---------------------------------------------------------------------------\u001b[0m",
      "\u001b[0;31mNameError\u001b[0m                                 Traceback (most recent call last)",
      "Cell \u001b[0;32mIn[17], line 1\u001b[0m\n\u001b[0;32m----> 1\u001b[0m peanut_butter \u001b[38;5;241m=\u001b[39m \u001b[43mCookie\u001b[49m\u001b[43m(\u001b[49m\u001b[38;5;28;43;01mTrue\u001b[39;49;00m\u001b[43m)\u001b[49m\n",
      "Cell \u001b[0;32mIn[16], line 5\u001b[0m, in \u001b[0;36mCookie.__init__\u001b[0;34m(self, is_warm)\u001b[0m\n\u001b[1;32m      3\u001b[0m \u001b[38;5;28;01mdef\u001b[39;00m \u001b[38;5;21m__init__\u001b[39m(\u001b[38;5;28mself\u001b[39m, is_warm):\n\u001b[1;32m      4\u001b[0m     \u001b[38;5;28mself\u001b[39m\u001b[38;5;241m.\u001b[39m__is_warm \u001b[38;5;241m=\u001b[39m is_warm\n\u001b[0;32m----> 5\u001b[0m     \u001b[38;5;28mself\u001b[39m\u001b[38;5;241m.\u001b[39m__is_crunchy \u001b[38;5;241m=\u001b[39m \u001b[43mis_crunchy\u001b[49m\n\u001b[1;32m      6\u001b[0m     \u001b[38;5;28mprint\u001b[39m(\u001b[38;5;124m\"\u001b[39m\u001b[38;5;124mHello World. It\u001b[39m\u001b[38;5;124m'\u001b[39m\u001b[38;5;124ms August 7\u001b[39m\u001b[38;5;124m\"\u001b[39m)\n",
      "\u001b[0;31mNameError\u001b[0m: name 'is_crunchy' is not defined"
     ]
    }
   ],
   "source": [
    "peanut_butter = Cookie(True)"
   ]
  },
  {
   "cell_type": "code",
   "execution_count": 18,
   "id": "d31c6944",
   "metadata": {},
   "outputs": [
    {
     "data": {
      "text/plain": [
       "True"
      ]
     },
     "execution_count": 18,
     "metadata": {},
     "output_type": "execute_result"
    }
   ],
   "source": [
    "peanut_butter.IsMyCookieWarm()"
   ]
  },
  {
   "cell_type": "code",
   "execution_count": 22,
   "id": "d4e025f9",
   "metadata": {},
   "outputs": [],
   "source": [
    "class Coffee:\n",
    "    def __init__(self, has_ice):\n",
    "        self.__has_ice = has_ice\n",
    "        self.__sugar = 0\n",
    "\n",
    "    def set_sugar(self, sugar):\n",
    "        self.__sugar = sugar\n",
    "\n",
    "    def get_sugar(self):\n",
    "        return self.__sugar"
   ]
  },
  {
   "cell_type": "code",
   "execution_count": 23,
   "id": "8d02108b",
   "metadata": {},
   "outputs": [],
   "source": [
    "my_cup = Coffee(has_ice=False)\n",
    "your_cup = Coffee(has_ice=True)"
   ]
  },
  {
   "cell_type": "code",
   "execution_count": 24,
   "id": "a5a17914",
   "metadata": {},
   "outputs": [],
   "source": [
    "my_cup.set_sugar(2)\n",
    "your_cup.set_sugar(1)"
   ]
  },
  {
   "cell_type": "code",
   "execution_count": 25,
   "id": "95b9fbe1",
   "metadata": {},
   "outputs": [
    {
     "name": "stdout",
     "output_type": "stream",
     "text": [
      "My cup has 2 teaspoons of sugar.\n",
      "Your cup has 1 teaspoons of sugar.\n"
     ]
    }
   ],
   "source": [
    "print(\"My cup has\", my_cup.get_sugar(), \"teaspoons of sugar.\")\n",
    "print(\"Your cup has\", your_cup.get_sugar(), \"teaspoons of sugar.\")"
   ]
  }
 ],
 "metadata": {
  "kernelspec": {
   "display_name": "Python 3 (ipykernel)",
   "language": "python",
   "name": "python3"
  },
  "language_info": {
   "codemirror_mode": {
    "name": "ipython",
    "version": 3
   },
   "file_extension": ".py",
   "mimetype": "text/x-python",
   "name": "python",
   "nbconvert_exporter": "python",
   "pygments_lexer": "ipython3",
   "version": "3.10.9"
  }
 },
 "nbformat": 4,
 "nbformat_minor": 5
}
