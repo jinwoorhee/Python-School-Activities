{
 "cells": [
  {
   "cell_type": "markdown",
   "id": "aafb1818",
   "metadata": {},
   "source": [
    "# NAME: Jinwoo Rhee\n",
    "## Date : 06/14/2023\n",
    "### Assignment: A trip to the cafe"
   ]
  },
  {
   "cell_type": "code",
   "execution_count": 4,
   "id": "5a33d503",
   "metadata": {},
   "outputs": [],
   "source": [
    "STATE_TAX_RATE = 0.04 \n",
    "COUNTY_TAX_RATE = 0.04875"
   ]
  },
  {
   "cell_type": "code",
   "execution_count": 2,
   "id": "9cce47db",
   "metadata": {},
   "outputs": [],
   "source": [
    "# I didn't put tax rate before I defined for the calculations, \n",
    "# which occured error,so I put it in first line."
   ]
  },
  {
   "cell_type": "code",
   "execution_count": 7,
   "id": "08a55303",
   "metadata": {},
   "outputs": [
    {
     "name": "stdout",
     "output_type": "stream",
     "text": [
      "Enter the price of a latte: $5\n",
      "Enter the price of a chocolate energy bar: $3\n"
     ]
    }
   ],
   "source": [
    "latte_price = float(input(\"Enter the price of a latte: $\"))\n",
    "energy_bar_price = float(input(\"Enter the price of a chocolate energy bar: $\"))"
   ]
  },
  {
   "cell_type": "code",
   "execution_count": 8,
   "id": "9e337584",
   "metadata": {},
   "outputs": [],
   "source": [
    "#Calculations\n",
    "subtotal = latte_price + energy_bar_price\n",
    "state_tax = subtotal * STATE_TAX_RATE\n",
    "county_tax = subtotal * COUNTY_TAX_RATE\n",
    "total_tax = state_tax + county_tax\n",
    "total_sale = subtotal + total_tax\n",
    "\n",
    "# I thought that it might be better to define variables into one section rather than define each variable by one by one."
   ]
  },
  {
   "cell_type": "code",
   "execution_count": 9,
   "id": "85278e41",
   "metadata": {},
   "outputs": [
    {
     "name": "stdout",
     "output_type": "stream",
     "text": [
      "Amoubnt of Purchase: $ 8.00\n",
      "State Sales Tax: $ 0.32\n",
      "County Sales Tax: $ 0.39\n",
      "Total Sales Tax: $ 0.71\n",
      "Total Sale: $ 8.71\n"
     ]
    }
   ],
   "source": [
    "print (\"Amoubnt of Purchase: $\", format(subtotal, \".2f\"))\n",
    "print (\"State Sales Tax: $\", format(state_tax, \".2f\"))\n",
    "print (\"County Sales Tax: $\", format(county_tax, \".2f\"))\n",
    "print (\"Total Sales Tax: $\", format(total_tax, \".2f\"))\n",
    "print(\"Total Sale: $\", format(total_sale, \".2f\"))"
   ]
  }
 ],
 "metadata": {
  "kernelspec": {
   "display_name": "Python 3 (ipykernel)",
   "language": "python",
   "name": "python3"
  },
  "language_info": {
   "codemirror_mode": {
    "name": "ipython",
    "version": 3
   },
   "file_extension": ".py",
   "mimetype": "text/x-python",
   "name": "python",
   "nbconvert_exporter": "python",
   "pygments_lexer": "ipython3",
   "version": "3.10.9"
  }
 },
 "nbformat": 4,
 "nbformat_minor": 5
}
