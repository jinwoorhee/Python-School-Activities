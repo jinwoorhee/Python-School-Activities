{
  "nbformat": 4,
  "nbformat_minor": 0,
  "metadata": {
    "colab": {
      "provenance": []
    },
    "kernelspec": {
      "name": "python3",
      "display_name": "Python 3"
    },
    "language_info": {
      "name": "python"
    }
  },
  "cells": [
    {
      "cell_type": "code",
      "execution_count": 3,
      "metadata": {
        "colab": {
          "base_uri": "https://localhost:8080/"
        },
        "id": "NDtAPBKvVm1Q",
        "outputId": "fccad5b5-7e86-4ce2-84a9-291d2520c22f"
      },
      "outputs": [
        {
          "output_type": "stream",
          "name": "stdout",
          "text": [
            "What do you choose? Type 0 for Rock, 1 for Paper, or 2 for Scissors: 1\n",
            "\n",
            "You chose:\n",
            "\n",
            "    _______\n",
            "---'   ____)____\n",
            "          ______)\n",
            "          _______)\n",
            "         _______)\n",
            "---.__________)\n",
            "\n",
            "Computer chose:\n",
            "\n",
            "    _______\n",
            "---'   ____)____\n",
            "          ______)\n",
            "       __________)\n",
            "      (____)\n",
            "---.__(___)\n",
            "\n",
            "Oh no! You lose.\n",
            "Thanks for playing! Try your luck again!\n"
          ]
        }
      ],
      "source": [
        "import random\n",
        "\n",
        "# ASCII art for the game choices\n",
        "rock = '''\n",
        "    _______\n",
        "---'   ____)\n",
        "      (_____)\n",
        "      (_____)\n",
        "      (____)\n",
        "---.__(___)\n",
        "'''\n",
        "\n",
        "paper = '''\n",
        "    _______\n",
        "---'   ____)____\n",
        "          ______)\n",
        "          _______)\n",
        "         _______)\n",
        "---.__________)\n",
        "'''\n",
        "\n",
        "scissors = '''\n",
        "    _______\n",
        "---'   ____)____\n",
        "          ______)\n",
        "       __________)\n",
        "      (____)\n",
        "---.__(___)\n",
        "'''\n",
        "\n",
        "# List of game images\n",
        "game_images = [rock, paper, scissors]\n",
        "\n",
        "# Get user's choice\n",
        "user_choice = int(input(\"What do you choose? Type 0 for Rock, 1 for Paper, or 2 for Scissors: \"))\n",
        "\n",
        "# Validate user input\n",
        "if user_choice >= 3 or user_choice < 0:\n",
        "    print(\"You typed an invalid number, you lose!\")\n",
        "else:\n",
        "    # Display user's choice\n",
        "    print(\"\\nYou chose:\")\n",
        "    print(game_images[user_choice])\n",
        "\n",
        "    # Generate computer's choice\n",
        "    computer_choice = random.randint(0, 2)\n",
        "\n",
        "    # Display computer's choice\n",
        "    print(\"Computer chose:\")\n",
        "    print(game_images[computer_choice])\n",
        "\n",
        "    # Determine the winner\n",
        "    if user_choice == computer_choice:\n",
        "        print(\"It's a draw!\")\n",
        "    elif (user_choice == 0 and computer_choice == 2) or \\\n",
        "         (user_choice == 1 and computer_choice == 0) or \\\n",
        "         (user_choice == 2 and computer_choice == 1):\n",
        "        print(\"Congratulations! You win!\")\n",
        "    else:\n",
        "        print(\"Oh no! You lose.\")\n",
        "\n",
        "print(\"Thanks for playing! Try your luck again!\")\n"
      ]
    },
    {
      "cell_type": "code",
      "source": [],
      "metadata": {
        "id": "Kubhxe5cZSUB"
      },
      "execution_count": null,
      "outputs": []
    }
  ]
}