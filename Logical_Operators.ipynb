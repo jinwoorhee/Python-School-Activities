{
  "nbformat": 4,
  "nbformat_minor": 0,
  "metadata": {
    "colab": {
      "provenance": []
    },
    "kernelspec": {
      "name": "python3",
      "display_name": "Python 3"
    },
    "language_info": {
      "name": "python"
    }
  },
  "cells": [
    {
      "cell_type": "code",
      "execution_count": null,
      "metadata": {
        "id": "btQc2kqKcRVY"
      },
      "outputs": [],
      "source": [
        "# Logical Operators\n",
        "\n",
        "## A and B : Both have to be true\n",
        "## C or D : Only one of them has to be true\n",
        "## not E : not operator, but reverse the condition. True = False, False = True"
      ]
    },
    {
      "cell_type": "code",
      "source": [
        "# Logical Operators, Midlife crisis\n",
        "\n",
        "# Previous example: rollercoaster\n",
        "\n",
        "print(\"Welcome to the rollercoaster!\")\n",
        "height = int(input(\"What is your heigh in cm? \"))\n",
        "bill = 0\n",
        "\n",
        "if height >= 120:\n",
        "  print(\"You can ride the rollercoaster!\")\n",
        "  age = int(input(\"What is your age? \"))\n",
        "  if age < 12:\n",
        "    bill = 5\n",
        "    print(\"Child tickets are $5.\")\n",
        "  elif age <= 18:\n",
        "    bill = 7\n",
        "    print(\"Youth Tickets are $7.\")\n",
        "  elif age >= 45 and age <= 55:\n",
        "    print(\"Everything is going to be ok. Have a free ride on use!\")\n",
        "  else:\n",
        "    bill = 12\n",
        "    print(\"Adult tickets are $12.\")\n",
        "\n",
        "  wants_photo = input(\"Do you want a photo taken? Y or N. \")\n",
        "  if wants_photo == \"Y\":\n",
        "    bill += 3 #add $3 to their bill\n",
        "\n",
        "  print(f\"Your final bill is ${bill}\")   # not indented as same level, execute after if statement executed\n",
        "\n",
        "else:\n",
        "  print(\"Sorry, you have to grow taller before you can ride.\")"
      ],
      "metadata": {
        "id": "CnKJhRDKc64V",
        "colab": {
          "base_uri": "https://localhost:8080/"
        },
        "outputId": "b3c138c7-320f-4862-d8f0-ab62acee1b77"
      },
      "execution_count": 1,
      "outputs": [
        {
          "output_type": "stream",
          "name": "stdout",
          "text": [
            "Welcome to the rollercoaster!\n",
            "What is your heigh in cm? 176\n",
            "You can ride the rollercoaster!\n",
            "What is your age? 24\n",
            "Adult tickets are $12.\n",
            "Do you want a photo taken? Y or N. Y\n",
            "Your final bill is $15\n"
          ]
        }
      ]
    },
    {
      "cell_type": "code",
      "source": [
        "# Love Calculator\n",
        "\n",
        "def love_calculator(name1, name2):\n",
        "    # Combine the names\n",
        "    combined_names = name1.lower() + name2.lower()\n",
        "\n",
        "    # Calculate the number of times each letter in \"TRUE LOVE\" appears in the combined names\n",
        "    true_score = sum(combined_names.count(char) for char in \"true\")\n",
        "    love_score = sum(combined_names.count(char) for char in \"love\")\n",
        "\n",
        "    # Combine the two scores to get a final love score\n",
        "    love_percentage = int(f\"{true_score}{love_score}\")\n",
        "\n",
        "    # Ensure the love percentage is within a valid range\n",
        "    love_percentage = min(max(love_percentage, 0), 100)\n",
        "\n",
        "    return love_percentage\n",
        "\n",
        "# Get user input\n",
        "name1 = input(\"Enter your name: \")\n",
        "name2 = input(\"Enter their name: \")\n",
        "\n",
        "# Calculate the love percentage\n",
        "score = love_calculator(name1, name2)\n",
        "\n",
        "# Display the result\n",
        "print(f\"Your love score is: {score}%\")\n"
      ],
      "metadata": {
        "id": "h6wW1Fx6dqBo",
        "colab": {
          "base_uri": "https://localhost:8080/"
        },
        "outputId": "46f24991-4a15-4ff7-885c-657e1f967472"
      },
      "execution_count": 2,
      "outputs": [
        {
          "output_type": "stream",
          "name": "stdout",
          "text": [
            "Enter your name: Jinwoo\n",
            "Enter their name: Jiwoo\n",
            "Your love score is: 4%\n"
          ]
        }
      ]
    }
  ]
}