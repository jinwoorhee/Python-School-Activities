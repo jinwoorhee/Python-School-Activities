{
 "cells": [
  {
   "cell_type": "code",
   "execution_count": 2,
   "id": "2a1a8445",
   "metadata": {},
   "outputs": [
    {
     "name": "stdout",
     "output_type": "stream",
     "text": [
      "I am a plant.\n",
      "I am a tree.\n"
     ]
    }
   ],
   "source": [
    "class Plant:\n",
    "    def __init__(self, plant_type):\n",
    "        self.__plant_type = plant_type\n",
    "    def message(self):\n",
    "        print(\"I am a plant.\")\n",
    "        \n",
    "class Tree(Plant):\n",
    "    def __init__(self):\n",
    "        Plant.__init__(self, 'tree')\n",
    "        \n",
    "    def message(self):\n",
    "        print(\"I am a tree.\")\n",
    "        \n",
    "p = Plant('sapling')\n",
    "t = Tree()\n",
    "p.message()\n",
    "t.message()"
   ]
  },
  {
   "cell_type": "code",
   "execution_count": null,
   "id": "dff17fd2",
   "metadata": {},
   "outputs": [],
   "source": []
  }
 ],
 "metadata": {
  "kernelspec": {
   "display_name": "Python 3 (ipykernel)",
   "language": "python",
   "name": "python3"
  },
  "language_info": {
   "codemirror_mode": {
    "name": "ipython",
    "version": 3
   },
   "file_extension": ".py",
   "mimetype": "text/x-python",
   "name": "python",
   "nbconvert_exporter": "python",
   "pygments_lexer": "ipython3",
   "version": "3.10.9"
  }
 },
 "nbformat": 4,
 "nbformat_minor": 5
}
