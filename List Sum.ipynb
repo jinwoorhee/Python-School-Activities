{
 "cells": [
  {
   "cell_type": "code",
   "execution_count": 3,
   "id": "876529b0",
   "metadata": {},
   "outputs": [],
   "source": [
    "numbers = [100, 200, 300, 400]\n",
    "\n",
    "with open('numbers.txt','w') as file:\n",
    "    for number in numbers:\n",
    "        file.write(str(number) + '\\n')"
   ]
  },
  {
   "cell_type": "code",
   "execution_count": 7,
   "id": "8534a849",
   "metadata": {},
   "outputs": [
    {
     "name": "stdout",
     "output_type": "stream",
     "text": [
      "Sum of numbers: 1000\n"
     ]
    }
   ],
   "source": [
    "sum_of_numbers = 0\n",
    "\n",
    "with open('numbers.txt', 'r') as file:\n",
    "    for line in file:\n",
    "        sum_of_numbers += int(line)\n",
    "        \n",
    "print(\"Sum of numbers:\", sum_of_numbers)"
   ]
  },
  {
   "cell_type": "code",
   "execution_count": null,
   "id": "0543e1fd",
   "metadata": {},
   "outputs": [],
   "source": [
    "class Student:\n",
    "    def "
   ]
  }
 ],
 "metadata": {
  "kernelspec": {
   "display_name": "Python 3 (ipykernel)",
   "language": "python",
   "name": "python3"
  },
  "language_info": {
   "codemirror_mode": {
    "name": "ipython",
    "version": 3
   },
   "file_extension": ".py",
   "mimetype": "text/x-python",
   "name": "python",
   "nbconvert_exporter": "python",
   "pygments_lexer": "ipython3",
   "version": "3.10.9"
  }
 },
 "nbformat": 4,
 "nbformat_minor": 5
}
