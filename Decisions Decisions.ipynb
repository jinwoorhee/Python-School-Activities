{
 "cells": [
  {
   "cell_type": "markdown",
   "id": "e7e32b59",
   "metadata": {},
   "source": [
    "# If Statement"
   ]
  },
  {
   "cell_type": "code",
   "execution_count": 2,
   "id": "c6a701d6",
   "metadata": {},
   "outputs": [],
   "source": [
    "numPlums = 2\n",
    "\n",
    "if (numPlums >= 10):\n",
    "    print('I can bake a pie with 10 plums')"
   ]
  },
  {
   "cell_type": "code",
   "execution_count": 6,
   "id": "48f19fb5",
   "metadata": {},
   "outputs": [],
   "source": [
    "# example 1 will not print x :task condition will evaluate as false\n",
    "x = 5\n",
    "if x < 4:\n",
    "    y = x * 2\n",
    "    print (x)"
   ]
  },
  {
   "cell_type": "code",
   "execution_count": 8,
   "id": "27d1bb22",
   "metadata": {},
   "outputs": [],
   "source": [
    "# example 2 will print x : doesn't matter because the print function will run.\n",
    "if x < 4:\n",
    "    y = x * 2\n",
    "    print (x)"
   ]
  },
  {
   "cell_type": "code",
   "execution_count": 12,
   "id": "568f5bec",
   "metadata": {},
   "outputs": [],
   "source": [
    "if x < 4: y = x*2"
   ]
  },
  {
   "cell_type": "code",
   "execution_count": 29,
   "id": "d969fba7",
   "metadata": {},
   "outputs": [
    {
     "name": "stdout",
     "output_type": "stream",
     "text": [
      "x is greater than y\n",
      "x is greater than or equal to y\n",
      "x is not equal to y\n"
     ]
    }
   ],
   "source": [
    "# My own function\n",
    "x = 10\n",
    "y = 5\n",
    "\n",
    "if x > y:\n",
    "    print (\"x is greater than y\")\n",
    "    \n",
    "if x < y:\n",
    "    print (\"x is less than y\")\n",
    "    \n",
    "if x <= y:\n",
    "    print (\"x is less than or equal to y\")\n",
    "    \n",
    "if x >= y:\n",
    "    print (\"x is greater than or equal to y\")\n",
    "    \n",
    "if x == y:\n",
    "    print (\"x is equal to y\")\n",
    "    \n",
    "if x != y:\n",
    "    print (\"x is not equal to y\")"
   ]
  },
  {
   "cell_type": "code",
   "execution_count": 21,
   "id": "f703798b",
   "metadata": {},
   "outputs": [
    {
     "name": "stdout",
     "output_type": "stream",
     "text": [
      "Beautiful city!!\n"
     ]
    }
   ],
   "source": [
    "is_Denver_Beautiful = True\n",
    "\n",
    "if is_Denver_Beautiful:\n",
    "    print(\"Beautiful city!!\")"
   ]
  },
  {
   "cell_type": "code",
   "execution_count": 23,
   "id": "7c04dbf1",
   "metadata": {},
   "outputs": [
    {
     "name": "stdout",
     "output_type": "stream",
     "text": [
      "Go hiking\n",
      "20\n"
     ]
    }
   ],
   "source": [
    "a = 5\n",
    "b = 10\n",
    "\n",
    "if (a > b):\n",
    "    print(\"Will never run\") # a is not greater than b therefore it doesn't print the statement.\n",
    "    \n",
    "print(\"Go hiking\")\n",
    "#it's not on the above paragraph, therefore it still works.\n",
    "c = 20\n",
    "print(c)"
   ]
  },
  {
   "cell_type": "code",
   "execution_count": 24,
   "id": "0afcc266",
   "metadata": {},
   "outputs": [
    {
     "name": "stdout",
     "output_type": "stream",
     "text": [
      "Nice weather we are having.\n"
     ]
    }
   ],
   "source": [
    "temperature = 50 # To prevent name error\n",
    "\n",
    "if temperature < 40:\n",
    "    print (\"A little cold, isn't it?\") # False = not print\n",
    "else: # Colon is required\n",
    "    print (\"Nice weather we are having.\") # True"
   ]
  },
  {
   "cell_type": "code",
   "execution_count": 25,
   "id": "a08e1122",
   "metadata": {},
   "outputs": [
    {
     "name": "stdout",
     "output_type": "stream",
     "text": [
      "Love this film.\n"
     ]
    }
   ],
   "source": [
    "#If-Else Statement W Boolean\n",
    "\n",
    "isInterestingMovie = True\n",
    "\n",
    "if isInterestingMovie == True: # == means equal\n",
    "    print ('Love this film.')\n",
    "else:\n",
    "    print ('It\\'s ok')"
   ]
  },
  {
   "cell_type": "code",
   "execution_count": 30,
   "id": "19b394e1",
   "metadata": {},
   "outputs": [
    {
     "name": "stdout",
     "output_type": "stream",
     "text": [
      "Does this print?\n"
     ]
    }
   ],
   "source": [
    "if 3:\n",
    "    print(\"Does this print?\")\n",
    "else:\n",
    "    print(\"what about this one?\")"
   ]
  },
  {
   "cell_type": "code",
   "execution_count": 32,
   "id": "02339e73",
   "metadata": {},
   "outputs": [
    {
     "name": "stdout",
     "output_type": "stream",
     "text": [
      "what is the password? apple\n",
      "You may enter!\n"
     ]
    }
   ],
   "source": [
    "my_password = \"apple\"\n",
    "\n",
    "user_password = input(\"what is the password? \")\n",
    "\n",
    "if user_password == my_password:  #password should always match even with capital letters\n",
    "    print(\"You may enter!\")\n",
    "else:\n",
    "    print(\"You may not enter, the end of the program\")"
   ]
  },
  {
   "cell_type": "code",
   "execution_count": 33,
   "id": "7c6fee3e",
   "metadata": {},
   "outputs": [
    {
     "name": "stdout",
     "output_type": "stream",
     "text": [
      "Something is missing\n"
     ]
    }
   ],
   "source": [
    "havePlums = True\n",
    "pickedRecipe = False\n",
    "\n",
    "if havePlums and pickedRecipe: # and function, True & False will give u False\n",
    "    print (\"Let's bake a pie\")\n",
    "else:\n",
    "    print (\"Something is missing\")"
   ]
  },
  {
   "cell_type": "code",
   "execution_count": 34,
   "id": "7b05b4a0",
   "metadata": {},
   "outputs": [
    {
     "name": "stdout",
     "output_type": "stream",
     "text": [
      "Let's bake a pie\n"
     ]
    }
   ],
   "source": [
    "havePlums = True\n",
    "pickedRecipe = False\n",
    "\n",
    "if havePlums or pickedRecipe: # or function True & False will give u true\n",
    "    print (\"Let's bake a pie\")\n",
    "else:\n",
    "    print (\"Something is missing\")"
   ]
  },
  {
   "cell_type": "code",
   "execution_count": 35,
   "id": "552bbad0",
   "metadata": {},
   "outputs": [
    {
     "name": "stdout",
     "output_type": "stream",
     "text": [
      "A walk in the park\n"
     ]
    }
   ],
   "source": [
    "#Operator Not\n",
    "bakingTonight = False\n",
    "\n",
    "if not bakingTonight:\n",
    "    print (\"A walk in the park\")\n",
    "else:\n",
    "    print (\"It will be delicious\")"
   ]
  },
  {
   "cell_type": "code",
   "execution_count": 49,
   "id": "64c3463b",
   "metadata": {},
   "outputs": [
    {
     "name": "stdout",
     "output_type": "stream",
     "text": [
      "What is your budget? 100\n"
     ]
    }
   ],
   "source": [
    "# Testing A series of Conditions\n",
    "\n",
    "budget = float(input(\"What is your budget? \")) #If you don't use float, it will give u string (default)"
   ]
  },
  {
   "cell_type": "code",
   "execution_count": 51,
   "id": "00dd8b4a",
   "metadata": {},
   "outputs": [
    {
     "name": "stdout",
     "output_type": "stream",
     "text": [
      "This is what runs if everything else is false\n",
      "The end of the program\n"
     ]
    }
   ],
   "source": [
    "if (budget == 0):\n",
    "    print(\"The best things in life are free\")\n",
    "elif (budget < 10):\n",
    "    print(\"You can definitely buy a cup of coffee\")\n",
    "elif (budget < 20):\n",
    "    print(\"You can buy lunch!\")\n",
    "elif (budget < 30):\n",
    "    print(\"You can even find a pair of jeans on amazon\")\n",
    "else:\n",
    "    print(\"This is what runs if everything else is false\")\n",
    "\n",
    "print(\"The end of the program\")"
   ]
  },
  {
   "cell_type": "code",
   "execution_count": 41,
   "id": "65f9b95b",
   "metadata": {},
   "outputs": [
    {
     "data": {
      "text/plain": [
       "2.0"
      ]
     },
     "execution_count": 41,
     "metadata": {},
     "output_type": "execute_result"
    }
   ],
   "source": [
    "budget"
   ]
  },
  {
   "cell_type": "code",
   "execution_count": 52,
   "id": "4b429c82",
   "metadata": {},
   "outputs": [],
   "source": [
    "# Age: Infant, Child, Teenager, Adult\n",
    "# Write a program that asks a user to enter a person's age.\n",
    "# The program should "
   ]
  },
  {
   "cell_type": "code",
   "execution_count": null,
   "id": "9bd87a81",
   "metadata": {},
   "outputs": [],
   "source": [
    "# Programming Exercise 3-3\n",
    "\n",
    "# Get the person's age.\n",
    "age = int(input('Enter age: '))\n",
    "\n",
    "# Determine if the person is an infant, child,\n",
    "# teenager, or adult, and display the result.\n",
    "\n",
    "if age <= 1:\n",
    "    print('Infant')\n",
    "elif age > 1 and age < 13: # How to define age 13?\n",
    "    print('Child')\n",
    "elif age > 13 and age < 20:\n",
    "    print('Teenager')\n",
    "else:\n",
    "    print('Adult')"
   ]
  },
  {
   "cell_type": "code",
   "execution_count": 56,
   "id": "3499217c",
   "metadata": {},
   "outputs": [
    {
     "name": "stdout",
     "output_type": "stream",
     "text": [
      "What is the Country? Canada\n",
      "What is the City of your vacation? Quebec\n"
     ]
    }
   ],
   "source": [
    "# 3.4 Nested If-Elif-Else Statements\n",
    "\n",
    "city = input ('What is the Country? ')\n",
    "country = input ('What is the City of your vacation? ')\n",
    "\n",
    "if country == 'Canada':\n",
    "    if city == 'Quebec':\n",
    "        print ('say Bonjour')\n",
    "    else:\n",
    "        print('Say Hello')\n",
    "elif country == 'Mexico':\n",
    "    print('Say Hola')"
   ]
  },
  {
   "cell_type": "code",
   "execution_count": 68,
   "id": "9275ce6a",
   "metadata": {},
   "outputs": [
    {
     "name": "stdout",
     "output_type": "stream",
     "text": [
      "What is the city of your vacation? Quebec\n",
      "What is the country of your vacation? Mexico\n"
     ]
    }
   ],
   "source": [
    "city = input(\"What is the city of your vacation? \")\n",
    "country = input(\"What is the country of your vacation? \")"
   ]
  },
  {
   "cell_type": "code",
   "execution_count": 69,
   "id": "6294818d",
   "metadata": {},
   "outputs": [
    {
     "data": {
      "text/plain": [
       "'Quebec'"
      ]
     },
     "execution_count": 69,
     "metadata": {},
     "output_type": "execute_result"
    }
   ],
   "source": [
    "city"
   ]
  },
  {
   "cell_type": "code",
   "execution_count": 70,
   "id": "7ce6c01f",
   "metadata": {},
   "outputs": [
    {
     "data": {
      "text/plain": [
       "'Mexico'"
      ]
     },
     "execution_count": 70,
     "metadata": {},
     "output_type": "execute_result"
    }
   ],
   "source": [
    "country"
   ]
  },
  {
   "cell_type": "code",
   "execution_count": 72,
   "id": "242fbced",
   "metadata": {},
   "outputs": [
    {
     "name": "stdout",
     "output_type": "stream",
     "text": [
      "Hola\n"
     ]
    }
   ],
   "source": [
    "if (country == 'Canada'):\n",
    "    \n",
    "    if (city == 'Quebec'):\n",
    "        print('Say Bonjour')\n",
    "    else:\n",
    "        print(\"Hello\")\n",
    "        \n",
    "\n",
    "elif (country == 'Mexico'):\n",
    "    print(\"Hola\")"
   ]
  },
  {
   "cell_type": "code",
   "execution_count": 74,
   "id": "0e383d62",
   "metadata": {},
   "outputs": [
    {
     "name": "stdout",
     "output_type": "stream",
     "text": [
      "USA!!!Canada!!!Mexico!!!"
     ]
    }
   ],
   "source": [
    "print('USA', end=\"!!!\")\n",
    "print('Canada', end=\"!!!\") #end = print in same line\n",
    "print('Mexico', end=\"!!!\")"
   ]
  },
  {
   "cell_type": "code",
   "execution_count": 75,
   "id": "be8faaf6",
   "metadata": {},
   "outputs": [
    {
     "name": "stdout",
     "output_type": "stream",
     "text": [
      "USA Canada Mexico\n"
     ]
    }
   ],
   "source": [
    "print('USA','Canada','Mexico')"
   ]
  },
  {
   "cell_type": "code",
   "execution_count": 76,
   "id": "75993e0f",
   "metadata": {},
   "outputs": [
    {
     "name": "stdout",
     "output_type": "stream",
     "text": [
      "USA    ???????   Canada    ???????   Mexico\n"
     ]
    }
   ],
   "source": [
    "print('USA','Canada','Mexico', sep=\"    ???????   \")"
   ]
  },
  {
   "cell_type": "code",
   "execution_count": 77,
   "id": "8254f8f0",
   "metadata": {},
   "outputs": [
    {
     "name": "stdout",
     "output_type": "stream",
     "text": [
      "USA    ???????   Canada    ???????   Mexico     ??????   "
     ]
    }
   ],
   "source": [
    "print('USA','Canada','Mexico', sep=\"    ???????   \", end=\"     ??????   \")"
   ]
  },
  {
   "cell_type": "code",
   "execution_count": 78,
   "id": "769ee511",
   "metadata": {},
   "outputs": [
    {
     "data": {
      "text/plain": [
       "'upper case'"
      ]
     },
     "execution_count": 78,
     "metadata": {},
     "output_type": "execute_result"
    }
   ],
   "source": [
    "s = 'UPPER CASE'\n",
    "s.lower()"
   ]
  }
 ],
 "metadata": {
  "kernelspec": {
   "display_name": "Python 3 (ipykernel)",
   "language": "python",
   "name": "python3"
  },
  "language_info": {
   "codemirror_mode": {
    "name": "ipython",
    "version": 3
   },
   "file_extension": ".py",
   "mimetype": "text/x-python",
   "name": "python",
   "nbconvert_exporter": "python",
   "pygments_lexer": "ipython3",
   "version": "3.10.9"
  }
 },
 "nbformat": 4,
 "nbformat_minor": 5
}
