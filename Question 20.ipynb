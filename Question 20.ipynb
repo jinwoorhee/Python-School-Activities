{
 "cells": [
  {
   "cell_type": "markdown",
   "id": "400a5c90",
   "metadata": {},
   "source": [
    "# Jinwoo Rhee\n",
    "## Date: 07/05/2023"
   ]
  },
  {
   "cell_type": "code",
   "execution_count": 7,
   "id": "3cb98e08",
   "metadata": {},
   "outputs": [],
   "source": [
    "def calculate_average(num1, num2, num3):\n",
    "    return (num1 + num2 + num3 ) / 3"
   ]
  },
  {
   "cell_type": "code",
   "execution_count": 8,
   "id": "bdcda78e",
   "metadata": {},
   "outputs": [
    {
     "name": "stdout",
     "output_type": "stream",
     "text": [
      "20.0\n"
     ]
    }
   ],
   "source": [
    "result = calculate_average(10, 20, 30)\n",
    "print(result)"
   ]
  }
 ],
 "metadata": {
  "kernelspec": {
   "display_name": "Python 3 (ipykernel)",
   "language": "python",
   "name": "python3"
  },
  "language_info": {
   "codemirror_mode": {
    "name": "ipython",
    "version": 3
   },
   "file_extension": ".py",
   "mimetype": "text/x-python",
   "name": "python",
   "nbconvert_exporter": "python",
   "pygments_lexer": "ipython3",
   "version": "3.10.9"
  }
 },
 "nbformat": 4,
 "nbformat_minor": 5
}
