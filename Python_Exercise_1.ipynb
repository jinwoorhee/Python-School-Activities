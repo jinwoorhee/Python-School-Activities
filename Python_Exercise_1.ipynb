{
  "nbformat": 4,
  "nbformat_minor": 0,
  "metadata": {
    "colab": {
      "provenance": []
    },
    "kernelspec": {
      "name": "python3",
      "display_name": "Python 3"
    },
    "language_info": {
      "name": "python"
    }
  },
  "cells": [
    {
      "cell_type": "code",
      "execution_count": null,
      "metadata": {
        "colab": {
          "base_uri": "https://localhost:8080/"
        },
        "id": "RMRaK76_4_8k",
        "outputId": "f5736273-b427-4486-a8dd-72de46d96d09"
      },
      "outputs": [
        {
          "output_type": "stream",
          "name": "stdout",
          "text": [
            "My name is Mariya Mithaiwala\n"
          ]
        }
      ],
      "source": [
        "print(\"My name is Mariya Mithaiwala\")"
      ]
    },
    {
      "cell_type": "code",
      "source": [
        "x= \"My name is \"\n",
        "y= \"Mariya Mithaiwala\"\n",
        "print(x+y)"
      ],
      "metadata": {
        "colab": {
          "base_uri": "https://localhost:8080/"
        },
        "id": "vNOxaTbq5oXE",
        "outputId": "4584d4ab-06ed-40cb-9217-528a9d941d73"
      },
      "execution_count": null,
      "outputs": [
        {
          "output_type": "stream",
          "name": "stdout",
          "text": [
            "My name is Mariya Mithaiwala\n"
          ]
        }
      ]
    },
    {
      "cell_type": "code",
      "source": [
        "abc= \"I'm Mariya\"\n",
        "print(abc)"
      ],
      "metadata": {
        "colab": {
          "base_uri": "https://localhost:8080/"
        },
        "id": "MiBt_DUt5rWT",
        "outputId": "583a0770-da11-4628-ce95-f98f0852b32e"
      },
      "execution_count": null,
      "outputs": [
        {
          "output_type": "stream",
          "name": "stdout",
          "text": [
            "I'm Mariya\n"
          ]
        }
      ]
    },
    {
      "cell_type": "code",
      "source": [
        "xyz='I am Mariya'\n",
        "print(xyz)"
      ],
      "metadata": {
        "colab": {
          "base_uri": "https://localhost:8080/"
        },
        "id": "kKT8jGMi6ahw",
        "outputId": "b6736fe9-c47b-4118-b378-3697ea0d7c74"
      },
      "execution_count": null,
      "outputs": [
        {
          "output_type": "stream",
          "name": "stdout",
          "text": [
            "I am Mariya\n"
          ]
        }
      ]
    },
    {
      "cell_type": "code",
      "source": [
        "one = 15\n",
        "five = 6\n",
        "print(one%five)\n",
        "\n",
        "1"
      ],
      "metadata": {
        "colab": {
          "base_uri": "https://localhost:8080/"
        },
        "id": "wlh2Vri46oU4",
        "outputId": "7bfe0bc1-908a-439f-b2f0-43984d15f3f2"
      },
      "execution_count": null,
      "outputs": [
        {
          "output_type": "stream",
          "name": "stdout",
          "text": [
            "3\n"
          ]
        },
        {
          "output_type": "execute_result",
          "data": {
            "text/plain": [
              "1"
            ]
          },
          "metadata": {},
          "execution_count": 23
        }
      ]
    },
    {
      "cell_type": "code",
      "source": [
        "x= True\n",
        "y = False\n",
        "print(x and y)"
      ],
      "metadata": {
        "colab": {
          "base_uri": "https://localhost:8080/"
        },
        "id": "YC_gQ4qD8CWo",
        "outputId": "301c051c-9fbc-43fb-a04f-449f99dfbaa1"
      },
      "execution_count": null,
      "outputs": [
        {
          "output_type": "stream",
          "name": "stdout",
          "text": [
            "False\n"
          ]
        }
      ]
    },
    {
      "cell_type": "code",
      "source": [
        "#a Comparison function\n",
        "x= 5\n",
        "y= 10\n",
        "z= 15\n",
        "print(x!=y)"
      ],
      "metadata": {
        "colab": {
          "base_uri": "https://localhost:8080/"
        },
        "id": "GeeIwGD48IdE",
        "outputId": "c4aae12b-783d-4c11-fc54-2d8e4c02c83a"
      },
      "execution_count": null,
      "outputs": [
        {
          "output_type": "stream",
          "name": "stdout",
          "text": [
            "True\n"
          ]
        }
      ]
    },
    {
      "cell_type": "code",
      "source": [
        "# Assis operatiors\n",
        "x= \"Str\"\n",
        "print(\"The value of x is \", x)"
      ],
      "metadata": {
        "colab": {
          "base_uri": "https://localhost:8080/"
        },
        "id": "3KOOIS-u83T_",
        "outputId": "91351168-2a28-4a9d-d5b0-ff517e6fcbe7"
      },
      "execution_count": null,
      "outputs": [
        {
          "output_type": "stream",
          "name": "stdout",
          "text": [
            "The value of x is  Str\n"
          ]
        }
      ]
    },
    {
      "cell_type": "code",
      "source": [
        "type(x)"
      ],
      "metadata": {
        "colab": {
          "base_uri": "https://localhost:8080/"
        },
        "id": "4ftFbaYr8EmB",
        "outputId": "306c1fd3-40bc-4778-8a79-e028b7f6e12c"
      },
      "execution_count": null,
      "outputs": [
        {
          "output_type": "execute_result",
          "data": {
            "text/plain": [
              "str"
            ]
          },
          "metadata": {},
          "execution_count": 42
        }
      ]
    },
    {
      "cell_type": "code",
      "source": [
        "# List\n",
        "e1= ['apple', 'banana', 'pear', 'orange']\n",
        "e2= ['grape','cherry']\n",
        "print(e1, e2)"
      ],
      "metadata": {
        "colab": {
          "base_uri": "https://localhost:8080/"
        },
        "id": "-FeTSA598D2V",
        "outputId": "a2cd0dd4-e96f-4ed5-deb2-fbf774ef49c9"
      },
      "execution_count": null,
      "outputs": [
        {
          "output_type": "stream",
          "name": "stdout",
          "text": [
            "['apple', 'banana', 'pear', 'orange'] ['grape', 'cherry']\n"
          ]
        }
      ]
    },
    {
      "cell_type": "code",
      "source": [
        "e3= e1+e2\n",
        "print(e3)"
      ],
      "metadata": {
        "colab": {
          "base_uri": "https://localhost:8080/"
        },
        "id": "etSmGzrU-Asc",
        "outputId": "a13a05d3-2c46-48d8-8614-bf1db19daa69"
      },
      "execution_count": null,
      "outputs": [
        {
          "output_type": "stream",
          "name": "stdout",
          "text": [
            "['apple', 'banana', 'pear', 'orange', 'grape', 'cherry']\n"
          ]
        }
      ]
    },
    {
      "cell_type": "code",
      "source": [
        "e3.append('grapefruit')\n",
        "print(e3)"
      ],
      "metadata": {
        "colab": {
          "base_uri": "https://localhost:8080/"
        },
        "id": "Csxb1i---YVP",
        "outputId": "1c78cb1d-f60e-48fc-8c4f-d44a90daf8a3"
      },
      "execution_count": null,
      "outputs": [
        {
          "output_type": "stream",
          "name": "stdout",
          "text": [
            "['apple', 'banana', 'pear', 'orange', 'grape', 'cherry', 'grapefruit', 'grapefruit']\n"
          ]
        }
      ]
    },
    {
      "cell_type": "code",
      "source": [
        "e3.insert(1,\"mango\")\n",
        "e3"
      ],
      "metadata": {
        "colab": {
          "base_uri": "https://localhost:8080/"
        },
        "id": "-baG8yHY-gVo",
        "outputId": "f6833e25-0513-4c16-828b-41d05dfc4e49"
      },
      "execution_count": null,
      "outputs": [
        {
          "output_type": "execute_result",
          "data": {
            "text/plain": [
              "['apple',\n",
              " 'mango',\n",
              " 'mango',\n",
              " 'mango',\n",
              " 'mango',\n",
              " 'mango',\n",
              " 'banana',\n",
              " 'pear',\n",
              " 'orange',\n",
              " 'grape',\n",
              " 'cherry',\n",
              " 'grapefruit',\n",
              " 'grapefruit']"
            ]
          },
          "metadata": {},
          "execution_count": 55
        }
      ]
    },
    {
      "cell_type": "code",
      "source": [
        "e3.remove(\"mango\")\n",
        "e3"
      ],
      "metadata": {
        "colab": {
          "base_uri": "https://localhost:8080/"
        },
        "id": "YkLulDxnApuR",
        "outputId": "d277744a-de18-456f-8043-7207189ac60e"
      },
      "execution_count": null,
      "outputs": [
        {
          "output_type": "execute_result",
          "data": {
            "text/plain": [
              "['apple',\n",
              " 'mango',\n",
              " 'mango',\n",
              " 'mango',\n",
              " 'banana',\n",
              " 'pear',\n",
              " 'orange',\n",
              " 'grape',\n",
              " 'cherry',\n",
              " 'grapefruit',\n",
              " 'grapefruit']"
            ]
          },
          "metadata": {},
          "execution_count": 57
        }
      ]
    },
    {
      "cell_type": "code",
      "source": [
        "e3.sort()\n",
        "e3"
      ],
      "metadata": {
        "colab": {
          "base_uri": "https://localhost:8080/"
        },
        "id": "6DX8RFVQAsZQ",
        "outputId": "98c49731-f754-4770-cbf4-5ef43376ecfe"
      },
      "execution_count": null,
      "outputs": [
        {
          "output_type": "execute_result",
          "data": {
            "text/plain": [
              "['apple',\n",
              " 'banana',\n",
              " 'cherry',\n",
              " 'grape',\n",
              " 'grapefruit',\n",
              " 'grapefruit',\n",
              " 'mango',\n",
              " 'mango',\n",
              " 'mango',\n",
              " 'orange',\n",
              " 'pear']"
            ]
          },
          "metadata": {},
          "execution_count": 60
        }
      ]
    },
    {
      "cell_type": "code",
      "source": [
        "len(e3)\n",
        "\n",
        "10"
      ],
      "metadata": {
        "colab": {
          "base_uri": "https://localhost:8080/"
        },
        "id": "fl6ONaKaBBP6",
        "outputId": "db57b555-4081-4556-8734-06f289b21ca2"
      },
      "execution_count": null,
      "outputs": [
        {
          "output_type": "execute_result",
          "data": {
            "text/plain": [
              "10"
            ]
          },
          "metadata": {},
          "execution_count": 64
        }
      ]
    },
    {
      "cell_type": "code",
      "source": [
        "# tuple\n",
        "e4 = (\"mango\", \"apple\", \"banana\")\n",
        "e4\n",
        "\n",
        "('mango','apple','banana')"
      ],
      "metadata": {
        "colab": {
          "base_uri": "https://localhost:8080/"
        },
        "id": "mLVXNqmXBGjc",
        "outputId": "29f36643-7832-4509-b140-ce317a0f01cb"
      },
      "execution_count": null,
      "outputs": [
        {
          "output_type": "execute_result",
          "data": {
            "text/plain": [
              "('mango', 'apple', 'banana')"
            ]
          },
          "metadata": {},
          "execution_count": 67
        }
      ]
    },
    {
      "cell_type": "code",
      "source": [
        "\"grapes\" in e4"
      ],
      "metadata": {
        "colab": {
          "base_uri": "https://localhost:8080/"
        },
        "id": "xb2J2oxdCAcw",
        "outputId": "990bd8de-fb4d-48d1-bfb2-50cacd1d373a"
      },
      "execution_count": null,
      "outputs": [
        {
          "output_type": "execute_result",
          "data": {
            "text/plain": [
              "False"
            ]
          },
          "metadata": {},
          "execution_count": 69
        }
      ]
    },
    {
      "cell_type": "code",
      "source": [
        "e4.count(\"grapes\")"
      ],
      "metadata": {
        "colab": {
          "base_uri": "https://localhost:8080/"
        },
        "id": "y_UJrNpxCJG4",
        "outputId": "a3800fcc-7df4-40c0-afd8-22f85f2040c4"
      },
      "execution_count": null,
      "outputs": [
        {
          "output_type": "execute_result",
          "data": {
            "text/plain": [
              "0"
            ]
          },
          "metadata": {},
          "execution_count": 72
        }
      ]
    },
    {
      "cell_type": "code",
      "source": [
        "e4.count(\"grapes\")"
      ],
      "metadata": {
        "colab": {
          "base_uri": "https://localhost:8080/"
        },
        "id": "ZfgC-DPDCopQ",
        "outputId": "17ad3ac6-6f3f-4c4e-e21f-5734daa51ae6"
      },
      "execution_count": null,
      "outputs": [
        {
          "output_type": "execute_result",
          "data": {
            "text/plain": [
              "0"
            ]
          },
          "metadata": {},
          "execution_count": 74
        }
      ]
    },
    {
      "cell_type": "code",
      "source": [
        "e4.index(\"mango\")"
      ],
      "metadata": {
        "colab": {
          "base_uri": "https://localhost:8080/"
        },
        "id": "oG3sdBruCtA1",
        "outputId": "76b56a3d-1d76-444b-9819-ef93a2eda614"
      },
      "execution_count": null,
      "outputs": [
        {
          "output_type": "execute_result",
          "data": {
            "text/plain": [
              "0"
            ]
          },
          "metadata": {},
          "execution_count": 77
        }
      ]
    },
    {
      "cell_type": "code",
      "source": [
        "#set\n",
        "g1 = {1,4,5}"
      ],
      "metadata": {
        "id": "lcSLeEqBC6S8"
      },
      "execution_count": null,
      "outputs": []
    },
    {
      "cell_type": "code",
      "source": [
        "#set\n",
        "g1 = {1,4,5}\n",
        "g1\n"
      ],
      "metadata": {
        "colab": {
          "base_uri": "https://localhost:8080/"
        },
        "id": "9BiwMIiSDWuL",
        "outputId": "cbd9c7bf-6c2b-4ae2-ed99-a79847dc8d06"
      },
      "execution_count": null,
      "outputs": [
        {
          "output_type": "execute_result",
          "data": {
            "text/plain": [
              "{1, 4, 5}"
            ]
          },
          "metadata": {},
          "execution_count": 82
        }
      ]
    },
    {
      "cell_type": "code",
      "source": [
        "# dic\n",
        "g1= {'one': 1, 'two': 2}\n",
        "g1"
      ],
      "metadata": {
        "colab": {
          "base_uri": "https://localhost:8080/"
        },
        "id": "WvTdRPIHDcbz",
        "outputId": "99f59ef1-a5e0-48f1-b574-5e6e501c02ea"
      },
      "execution_count": null,
      "outputs": [
        {
          "output_type": "execute_result",
          "data": {
            "text/plain": [
              "{'one': 1, 'two': 2}"
            ]
          },
          "metadata": {},
          "execution_count": 87
        }
      ]
    },
    {
      "cell_type": "code",
      "source": [
        "h = {'firstName': \"Mariya\",\n",
        "\"LastName\": \"ithaiwala\" ,\n",
        "\"Address\" : \"Hoboken\" ,\n",
        "\"No\": 4564446}\n",
        "print(h)"
      ],
      "metadata": {
        "colab": {
          "base_uri": "https://localhost:8080/"
        },
        "id": "r9U6ZsRaDyOb",
        "outputId": "60e03062-6024-4192-9a69-9db867256e7c"
      },
      "execution_count": null,
      "outputs": [
        {
          "output_type": "stream",
          "name": "stdout",
          "text": [
            "{'firstName': 'Mariya', 'LastName': 'ithaiwala', 'Address': 'Hoboken', 'No': 4564446}\n"
          ]
        }
      ]
    },
    {
      "cell_type": "code",
      "source": [
        "# For Loop\n",
        "\n",
        "for i in e3:\n",
        "  if len(i) > 5:\n",
        "    print(i)"
      ],
      "metadata": {
        "colab": {
          "base_uri": "https://localhost:8080/"
        },
        "id": "uWb2JLixEud_",
        "outputId": "0fa70904-ecfb-4f4c-ee3d-eb09a60303be"
      },
      "execution_count": null,
      "outputs": [
        {
          "output_type": "stream",
          "name": "stdout",
          "text": [
            "banana\n",
            "cherry\n",
            "grapefruit\n",
            "grapefruit\n",
            "orange\n"
          ]
        }
      ]
    },
    {
      "cell_type": "code",
      "source": [
        "d= 1\n",
        "e= 10\n",
        "while d < e:\n",
        "  print(d)\n",
        "  d=d+1"
      ],
      "metadata": {
        "colab": {
          "base_uri": "https://localhost:8080/"
        },
        "id": "MBKA95xAEzAZ",
        "outputId": "8866e053-f988-4074-b587-2f8221c28e69"
      },
      "execution_count": null,
      "outputs": [
        {
          "output_type": "stream",
          "name": "stdout",
          "text": [
            "1\n",
            "2\n",
            "3\n",
            "4\n",
            "5\n",
            "6\n",
            "7\n",
            "8\n",
            "9\n"
          ]
        }
      ]
    },
    {
      "cell_type": "code",
      "source": [
        "Generators & Iterators\n",
        "A generator creates a set of values returned in an iterator.\n",
        "An iterator is an object that can be iterated on.\n",
        "Every generator is an iterator, but not vice versa."
      ],
      "metadata": {
        "colab": {
          "base_uri": "https://localhost:8080/",
          "height": 133
        },
        "id": "X3ix8AHRGbgd",
        "outputId": "62a5e52e-6664-4e06-a0ee-99da48e050b4"
      },
      "execution_count": null,
      "outputs": [
        {
          "output_type": "error",
          "ename": "SyntaxError",
          "evalue": "ignored",
          "traceback": [
            "\u001b[0;36m  File \u001b[0;32m\"<ipython-input-102-77c14b719c37>\"\u001b[0;36m, line \u001b[0;32m2\u001b[0m\n\u001b[0;31m    A generator creates a set of values returned in an iterator.\u001b[0m\n\u001b[0m      ^\u001b[0m\n\u001b[0;31mSyntaxError\u001b[0m\u001b[0;31m:\u001b[0m invalid syntax\n"
          ]
        }
      ]
    },
    {
      "cell_type": "code",
      "source": [
        "numbers = range (5)     #Generates a sequence of numbers from 0 to 4\n",
        "print(numbers)          #range (5) is the same as range (0,5,1)\n",
        "print(type(numbers))    #range (start, stop, step)\n",
        "print(list(numbers))"
      ],
      "metadata": {
        "colab": {
          "base_uri": "https://localhost:8080/"
        },
        "id": "wmmfUqYuJzPA",
        "outputId": "af3cfbbd-bf8e-45e5-af14-e794db86c092"
      },
      "execution_count": null,
      "outputs": [
        {
          "output_type": "stream",
          "name": "stdout",
          "text": [
            "range(0, 5)\n",
            "<class 'range'>\n",
            "[0, 1, 2, 3, 4]\n"
          ]
        }
      ]
    },
    {
      "cell_type": "code",
      "source": [
        "even_numbers = range (2,10,2)\n",
        "print(even_numbers)\n",
        "print(list(even_numbers))"
      ],
      "metadata": {
        "colab": {
          "base_uri": "https://localhost:8080/"
        },
        "id": "kxNxm4Y0KrTq",
        "outputId": "a9fe3286-7e49-4a7f-bd77-182d8c2eb98c"
      },
      "execution_count": null,
      "outputs": [
        {
          "output_type": "stream",
          "name": "stdout",
          "text": [
            "range(2, 10, 2)\n",
            "[2, 4, 6, 8]\n"
          ]
        }
      ]
    },
    {
      "cell_type": "code",
      "source": [
        "squares = []\n",
        "\n",
        "for x in even_numbers:\n",
        "  squares.append(x**2)\n",
        "\n",
        "  squares"
      ],
      "metadata": {
        "id": "Nxt7mEleK5CS"
      },
      "execution_count": null,
      "outputs": []
    },
    {
      "cell_type": "code",
      "source": [
        "numbers_2 = range(10)\n",
        "print('numbers_2 =', list(numbers_2))\n",
        "\n",
        "# [ EXPRESSION for ITEM in ITERABLE if CONDITION ]\n",
        "numbers_2_subset =  [x for x in numbers_2 if x < 5]\n",
        "\n",
        "print('numbers_2_subset =', numbers_2_subset)"
      ],
      "metadata": {
        "colab": {
          "base_uri": "https://localhost:8080/"
        },
        "id": "8-5H-enBLTWF",
        "outputId": "da53a1bd-4456-43a7-d4ad-226d15ccd624"
      },
      "execution_count": null,
      "outputs": [
        {
          "output_type": "stream",
          "name": "stdout",
          "text": [
            "numbers_2 = [0, 1, 2, 3, 4, 5, 6, 7, 8, 9]\n",
            "numbers_2_subset = [0, 1, 2, 3, 4]\n"
          ]
        }
      ]
    },
    {
      "cell_type": "code",
      "source": [
        "even_sqaures = [ x**2 for x in range(10) if x % 2 == 0 ]\n",
        "even_sqaures"
      ],
      "metadata": {
        "colab": {
          "base_uri": "https://localhost:8080/"
        },
        "id": "qqT3mWe7LW1l",
        "outputId": "e53fe0f8-89b9-48c9-f6c4-5c3607d46fd1"
      },
      "execution_count": null,
      "outputs": [
        {
          "output_type": "execute_result",
          "data": {
            "text/plain": [
              "[0, 4, 16, 36, 64]"
            ]
          },
          "metadata": {},
          "execution_count": 123
        }
      ]
    },
    {
      "cell_type": "code",
      "source": [
        "numbers_3 = range(0,100,10)\n",
        "print(list(numbers_3))"
      ],
      "metadata": {
        "colab": {
          "base_uri": "https://localhost:8080/"
        },
        "id": "o7sc_LyfMz25",
        "outputId": "e69ee4be-e9a7-44a8-f508-1a170e7d4ccb"
      },
      "execution_count": null,
      "outputs": [
        {
          "output_type": "stream",
          "name": "stdout",
          "text": [
            "[0, 10, 20, 30, 40, 50, 60, 70, 80, 90]\n"
          ]
        }
      ]
    },
    {
      "cell_type": "code",
      "source": [
        "[0,10,20,30]\n",
        "[0,10,20,30]"
      ],
      "metadata": {
        "colab": {
          "base_uri": "https://localhost:8080/"
        },
        "id": "87iSUWy6M7km",
        "outputId": "5a1560db-5dbe-499c-9844-6bb146c96a91"
      },
      "execution_count": null,
      "outputs": [
        {
          "output_type": "execute_result",
          "data": {
            "text/plain": [
              "[0, 10, 20, 30]"
            ]
          },
          "metadata": {},
          "execution_count": 128
        }
      ]
    },
    {
      "cell_type": "code",
      "source": [
        "# First n elements of a list\n",
        "numbers_3a = numbers_3[0:4]\n",
        "print(list(numbers_3a))\n",
        "\n",
        "numbers_3b = numbers_3[:4]\n",
        "print(list(numbers_3b))"
      ],
      "metadata": {
        "colab": {
          "base_uri": "https://localhost:8080/"
        },
        "id": "9UUFn43uNPjf",
        "outputId": "4bfe6911-ddb5-4645-b751-d161540b561b"
      },
      "execution_count": null,
      "outputs": [
        {
          "output_type": "stream",
          "name": "stdout",
          "text": [
            "[0, 10, 20, 30]\n",
            "[0, 10, 20, 30]\n"
          ]
        }
      ]
    },
    {
      "cell_type": "code",
      "source": [
        "# Last n elements of a list\n",
        "numbers_3c = numbers_3[-3:]\n",
        "print(list(numbers_3c))"
      ],
      "metadata": {
        "colab": {
          "base_uri": "https://localhost:8080/"
        },
        "id": "WBNVcZSANeAo",
        "outputId": "6e82683a-59a9-4a8b-c256-aebd5aa89556"
      },
      "execution_count": null,
      "outputs": [
        {
          "output_type": "stream",
          "name": "stdout",
          "text": [
            "[70, 80, 90]\n"
          ]
        }
      ]
    },
    {
      "cell_type": "code",
      "source": [
        "# all but last n elements of a list\n",
        "numbers_3d = numbers_3[:-4]\n",
        "print(list(numbers_3d))"
      ],
      "metadata": {
        "colab": {
          "base_uri": "https://localhost:8080/"
        },
        "id": "_sDNGyi1Nnzy",
        "outputId": "2a88c1c6-c48b-43c1-f35c-5ea6b4922a44"
      },
      "execution_count": null,
      "outputs": [
        {
          "output_type": "stream",
          "name": "stdout",
          "text": [
            "[0, 10, 20, 30, 40, 50]\n"
          ]
        }
      ]
    },
    {
      "cell_type": "code",
      "source": [
        "# second to fourth elements of a list\n",
        "numbers_3e = numbers_3[1:4]\n",
        "print(list(numbers_3e))"
      ],
      "metadata": {
        "colab": {
          "base_uri": "https://localhost:8080/"
        },
        "id": "e_jYwCEeOSAl",
        "outputId": "aa5fca59-748f-4b99-8298-409ea596b152"
      },
      "execution_count": null,
      "outputs": [
        {
          "output_type": "stream",
          "name": "stdout",
          "text": [
            "[10, 20, 30]\n"
          ]
        }
      ]
    },
    {
      "cell_type": "code",
      "source": [
        "clist = ['Canada', 'USA', 'Mexico', 'Australia', 'China', 'Japan']\n",
        "\n",
        "\n",
        "# first element, first 4 elements, last element, last 2 elements, second to fourth elements\n",
        "\n",
        "print(clist[0:1])\n",
        "print(clist[0:4])\n",
        "print(clist[-1:])\n",
        "print(clist[-2:])\n",
        "print(clist[2:4])\n",
        ""
      ],
      "metadata": {
        "colab": {
          "base_uri": "https://localhost:8080/"
        },
        "id": "qqnziUQFOc1n",
        "outputId": "e97f2a8e-a585-45e5-e131-9acd9dc094f7"
      },
      "execution_count": 2,
      "outputs": [
        {
          "output_type": "stream",
          "name": "stdout",
          "text": [
            "['Canada']\n",
            "['Canada', 'USA', 'Mexico', 'Australia']\n",
            "['Japan']\n",
            "['China', 'Japan']\n",
            "['Mexico', 'Australia']\n"
          ]
        }
      ]
    },
    {
      "cell_type": "code",
      "source": [
        "def function_name(parameters):\n",
        "  #function body\n",
        "    return xxx\n",
        "\n",
        "    function_name()\n"
      ],
      "metadata": {
        "id": "Wlez9sM7R-H7"
      },
      "execution_count": 3,
      "outputs": []
    },
    {
      "cell_type": "code",
      "source": [
        "def calc(a,b):\n",
        "  c=a+b\n",
        "  return c\n",
        "\n",
        "calc(10,20)"
      ],
      "metadata": {
        "colab": {
          "base_uri": "https://localhost:8080/"
        },
        "id": "IBi1U7cNSTpb",
        "outputId": "37c9e44a-0aa7-4452-e5ad-a79558e6aa65"
      },
      "execution_count": 4,
      "outputs": [
        {
          "output_type": "execute_result",
          "data": {
            "text/plain": [
              "30"
            ]
          },
          "metadata": {},
          "execution_count": 4
        }
      ]
    },
    {
      "cell_type": "code",
      "source": [
        "def raise_to(number, power):\n",
        "    new_value = number ** power\n",
        "    return new_value\n",
        "\n",
        "raise_to(4, 3)"
      ],
      "metadata": {
        "colab": {
          "base_uri": "https://localhost:8080/"
        },
        "id": "y8j5fgBASH1-",
        "outputId": "22e5452c-2b69-45dc-e17c-9d5d1264700d"
      },
      "execution_count": 5,
      "outputs": [
        {
          "output_type": "execute_result",
          "data": {
            "text/plain": [
              "64"
            ]
          },
          "metadata": {},
          "execution_count": 5
        }
      ]
    },
    {
      "cell_type": "code",
      "source": [
        "def raise_to(number, power):\n",
        "  new_value = number ** power\n",
        "  return new_value\n",
        "raise_to(power=3, number=4)"
      ],
      "metadata": {
        "colab": {
          "base_uri": "https://localhost:8080/"
        },
        "id": "noGxjklRTapj",
        "outputId": "e8e5db77-5d16-49f9-a37f-e8306ccafab7"
      },
      "execution_count": null,
      "outputs": [
        {
          "output_type": "execute_result",
          "data": {
            "text/plain": [
              "64"
            ]
          },
          "metadata": {},
          "execution_count": 165
        }
      ]
    },
    {
      "cell_type": "code",
      "source": [
        "def raise_to_with_default(number, power=2):\n",
        "  return number ** power\n",
        "\n",
        "raise_to_with_default(8)"
      ],
      "metadata": {
        "colab": {
          "base_uri": "https://localhost:8080/"
        },
        "id": "i78pcxYnTyQa",
        "outputId": "6e193522-9960-482b-dc16-de88317d9f18"
      },
      "execution_count": null,
      "outputs": [
        {
          "output_type": "execute_result",
          "data": {
            "text/plain": [
              "64"
            ]
          },
          "metadata": {},
          "execution_count": 170
        }
      ]
    },
    {
      "cell_type": "code",
      "source": [
        "def raise_to_with_default(number, power=2):\n",
        "    \"\"\"Raise a number to a power. Default power = 2.\"\"\"\n",
        "    return number * power\n",
        "raise_to_with_default.__doc__\n",
        "#_doc_ returns the module docstring"
      ],
      "metadata": {
        "colab": {
          "base_uri": "https://localhost:8080/",
          "height": 35
        },
        "id": "ba4D2TBhUNOg",
        "outputId": "9098e77f-8e8e-48e5-f6d0-96b39810af7c"
      },
      "execution_count": 6,
      "outputs": [
        {
          "output_type": "execute_result",
          "data": {
            "text/plain": [
              "'Raise a number to a power. Default power = 2.'"
            ],
            "application/vnd.google.colaboratory.intrinsic+json": {
              "type": "string"
            }
          },
          "metadata": {},
          "execution_count": 6
        }
      ]
    },
    {
      "cell_type": "code",
      "source": [
        "first_name = input(\"Enter your first name : \")\n",
        "last_name = input(\"Enter your last name : \")\n",
        "print(first_name,last_name)\n",
        "print(\"My name is \",first_name, last_name)"
      ],
      "metadata": {
        "colab": {
          "base_uri": "https://localhost:8080/"
        },
        "id": "bv3Qj_YIUo8m",
        "outputId": "f4627882-cce6-4aea-a7fd-4f2d79e9814a"
      },
      "execution_count": null,
      "outputs": [
        {
          "output_type": "stream",
          "name": "stdout",
          "text": [
            "Enter your first name : ciping\n",
            "Enter your last name : wu\n",
            "ciping wu\n",
            "My name is  ciping wu\n"
          ]
        }
      ]
    },
    {
      "cell_type": "code",
      "source": [
        "a = int(input(\"Please enter a number:\"))\n",
        "b = int(input(\"Please enter another number:\"))\n",
        "print(a+b)"
      ],
      "metadata": {
        "colab": {
          "base_uri": "https://localhost:8080/"
        },
        "id": "BiTpNPjHUv72",
        "outputId": "16cd08e0-47a5-4b42-e823-d71f337b86a5"
      },
      "execution_count": null,
      "outputs": [
        {
          "output_type": "stream",
          "name": "stdout",
          "text": [
            "Please enter a number:5\n",
            "Please enter another number:4\n",
            "9\n"
          ]
        }
      ]
    },
    {
      "cell_type": "code",
      "source": [
        "# conver Fahrenheit to Celsius\n",
        "\n",
        "Fahrenheit = float(input('Please enter the temperature in fahrenheit:'))\n",
        "Celsius = (Fahrenheit-32)*5/9\n",
        "\n",
        "print(\"tempertature in Celsius: \" , Celsius)"
      ],
      "metadata": {
        "colab": {
          "base_uri": "https://localhost:8080/"
        },
        "id": "Ce24ENoWUvfa",
        "outputId": "9461078b-1679-4e17-95f1-7d3376a9815a"
      },
      "execution_count": null,
      "outputs": [
        {
          "output_type": "stream",
          "name": "stdout",
          "text": [
            "Please enter the temperature in fahrenheit:32\n",
            "tempertature in Celsius:  0.0\n"
          ]
        }
      ]
    },
    {
      "cell_type": "code",
      "source": [
        "fahrenheit = input('Please enter the temperature in fahrenheit:')\n",
        "type(fahrenheit)"
      ],
      "metadata": {
        "colab": {
          "base_uri": "https://localhost:8080/"
        },
        "id": "qL9N4XymWDYd",
        "outputId": "8a4246cd-1136-40c1-ea58-a86286dd0118"
      },
      "execution_count": null,
      "outputs": [
        {
          "name": "stdout",
          "output_type": "stream",
          "text": [
            "Please enter the temperature in fahrenheit:32\n"
          ]
        },
        {
          "output_type": "execute_result",
          "data": {
            "text/plain": [
              "str"
            ]
          },
          "metadata": {},
          "execution_count": 187
        }
      ]
    }
  ]
}