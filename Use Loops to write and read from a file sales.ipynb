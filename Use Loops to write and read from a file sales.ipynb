{
 "cells": [
  {
   "cell_type": "code",
   "execution_count": 33,
   "id": "74655e06",
   "metadata": {},
   "outputs": [],
   "source": [
    "sales_file = open(\"sales.txt\", \"w\")\n",
    "for i in range(100, 301, 100):\n",
    "    sales_file.write(str(i) + \"\\n\")\n",
    "sales_file.close()"
   ]
  },
  {
   "cell_type": "code",
   "execution_count": 37,
   "id": "a5ab5ed0",
   "metadata": {},
   "outputs": [
    {
     "name": "stdout",
     "output_type": "stream",
     "text": [
      "600\n",
      "3\n",
      "The average is 200.0\n"
     ]
    }
   ],
   "source": [
    "my_sum = 0\n",
    "my_count = 0\n",
    "my_avg = 0\n",
    "sales_file = open(\"sales.txt\",\"r\")\n",
    "for line in sales_file:\n",
    "    my_sum += int(line)\n",
    "    my_count += 1\n",
    "sales_file.close()\n",
    "print(my_sum)\n",
    "print(my_count)\n",
    "my_avg = my_sum / my_count\n",
    "print(\"The average is\", my_avg)"
   ]
  },
  {
   "cell_type": "code",
   "execution_count": 39,
   "id": "2d6f63a8",
   "metadata": {},
   "outputs": [
    {
     "name": "stdout",
     "output_type": "stream",
     "text": [
      "Please enter int1: 4\n",
      "Please enter int1: 2\n",
      "Result =  2.0\n",
      "Life is good, but where is my coffee?\n"
     ]
    }
   ],
   "source": [
    "int1 = int(input(\"Please enter int1: \"))\n",
    "int2 = int(input(\"Please enter int1: \"))\n",
    "\n",
    "result = int1 / int2\n",
    "\n",
    "print(\"Result = \", result)\n",
    "\n",
    "print(\"Life is good, but where is my coffee?\")"
   ]
  },
  {
   "cell_type": "code",
   "execution_count": 45,
   "id": "1010450f",
   "metadata": {},
   "outputs": [
    {
     "name": "stdout",
     "output_type": "stream",
     "text": [
      "Please enter int1: four\n",
      "Integer expected, not text\n",
      "Life is good, but where is my coffee?\n"
     ]
    }
   ],
   "source": [
    "try:\n",
    "    int1 = int(input(\"Please enter int1: \"))\n",
    "    int2 = int(input(\"Please enter int1: \"))\n",
    "\n",
    "    result = int1 / int2\n",
    "\n",
    "    print(\"Result = \", result)\n",
    "    \n",
    "except ZeroDivisionError:\n",
    "    print(\"Should not be 0!!!\")\n",
    "    print(\"Will this be on the test?\")\n",
    "except ValueError:\n",
    "    print(\"Integer expected, not text\")\n",
    "\n",
    "\n",
    "print(\"Life is good, but where is my coffee?\")"
   ]
  },
  {
   "cell_type": "code",
   "execution_count": 4,
   "id": "56d26235",
   "metadata": {},
   "outputs": [
    {
     "name": "stdout",
     "output_type": "stream",
     "text": [
      "Please enter int1: 4\n",
      "Please enter int1: 2\n",
      "Result =  2.0\n",
      "Result * 10 20.0\n",
      "strawberry\n",
      "Life is good, but where is my coffee?\n"
     ]
    }
   ],
   "source": [
    "try:\n",
    "    int1 = int(input(\"Please enter int1: \"))\n",
    "    int2 = int(input(\"Please enter int1: \"))\n",
    "\n",
    "    result = int1 / int2\n",
    "\n",
    "    print(\"Result = \", result)\n",
    "    \n",
    "    \n",
    "except:\n",
    "    print(\"Didn't work\")\n",
    "else:\n",
    "    print(\"Result * 10\", result * 10)\n",
    "finally:\n",
    "    print(\"strawberry\")\n",
    "print(\"Life is good, but where is my coffee?\")"
   ]
  },
  {
   "cell_type": "code",
   "execution_count": 5,
   "id": "9a74eadb",
   "metadata": {},
   "outputs": [
    {
     "ename": "ZeroDivisionError",
     "evalue": "My own message",
     "output_type": "error",
     "traceback": [
      "\u001b[0;31m---------------------------------------------------------------------------\u001b[0m",
      "\u001b[0;31mZeroDivisionError\u001b[0m                         Traceback (most recent call last)",
      "Cell \u001b[0;32mIn[5], line 1\u001b[0m\n\u001b[0;32m----> 1\u001b[0m \u001b[38;5;28;01mraise\u001b[39;00m(\u001b[38;5;167;01mZeroDivisionError\u001b[39;00m(\u001b[38;5;124m\"\u001b[39m\u001b[38;5;124mMy own message\u001b[39m\u001b[38;5;124m\"\u001b[39m))\n",
      "\u001b[0;31mZeroDivisionError\u001b[0m: My own message"
     ]
    }
   ],
   "source": [
    "raise(ZeroDivisionError(\"My own message\"))"
   ]
  },
  {
   "cell_type": "code",
   "execution_count": null,
   "id": "b226f8d3",
   "metadata": {},
   "outputs": [],
   "source": []
  }
 ],
 "metadata": {
  "kernelspec": {
   "display_name": "Python 3 (ipykernel)",
   "language": "python",
   "name": "python3"
  },
  "language_info": {
   "codemirror_mode": {
    "name": "ipython",
    "version": 3
   },
   "file_extension": ".py",
   "mimetype": "text/x-python",
   "name": "python",
   "nbconvert_exporter": "python",
   "pygments_lexer": "ipython3",
   "version": "3.10.9"
  }
 },
 "nbformat": 4,
 "nbformat_minor": 5
}
