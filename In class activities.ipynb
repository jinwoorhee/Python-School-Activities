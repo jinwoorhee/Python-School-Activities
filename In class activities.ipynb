{
 "cells": [
  {
   "cell_type": "code",
   "execution_count": 28,
   "id": "422a7a7f",
   "metadata": {},
   "outputs": [],
   "source": [
    "def show_miles():\n",
    "    km = float(input(\"Enter the distance in kilometers: \"))\n",
    "    mi = km * 0.6214\n",
    "    print(\"The distance in miles is:\", mi)"
   ]
  },
  {
   "cell_type": "code",
   "execution_count": 29,
   "id": "d4884f69",
   "metadata": {},
   "outputs": [],
   "source": [
    "def show_pounds(kg):\n",
    "    lb = 2.2046 * kg\n",
    "    print(kg, \"kilograms is equal to\", lb, \"pounds.\")"
   ]
  },
  {
   "cell_type": "code",
   "execution_count": 30,
   "id": "f502a204",
   "metadata": {},
   "outputs": [],
   "source": [
    "def show_fahrenheit(celsius):\n",
    "    fahrenheit = (9/5) * celsius + 32\n",
    "    return fahrenheit"
   ]
  },
  {
   "cell_type": "code",
   "execution_count": 33,
   "id": "53eea6af",
   "metadata": {},
   "outputs": [
    {
     "name": "stdout",
     "output_type": "stream",
     "text": [
      "Enter the distance in kilometers: 10\n",
      "The distance in miles is: 6.2139999999999995\n",
      "10 kilograms is equal to 22.046 pounds.\n"
     ]
    },
    {
     "data": {
      "text/plain": [
       "77.0"
      ]
     },
     "execution_count": 33,
     "metadata": {},
     "output_type": "execute_result"
    }
   ],
   "source": [
    "show_miles()\n",
    "show_pounds(10)\n",
    "show_fahrenheit(25)"
   ]
  },
  {
   "cell_type": "code",
   "execution_count": 34,
   "id": "393729d6",
   "metadata": {},
   "outputs": [
    {
     "data": {
      "text/plain": [
       "[0, -1, -2, -3, -4, -5]"
      ]
     },
     "execution_count": 34,
     "metadata": {},
     "output_type": "execute_result"
    }
   ],
   "source": [
    "list(range(0, -6, -1))"
   ]
  },
  {
   "cell_type": "code",
   "execution_count": null,
   "id": "213d2906",
   "metadata": {},
   "outputs": [],
   "source": []
  }
 ],
 "metadata": {
  "kernelspec": {
   "display_name": "Python 3 (ipykernel)",
   "language": "python",
   "name": "python3"
  },
  "language_info": {
   "codemirror_mode": {
    "name": "ipython",
    "version": 3
   },
   "file_extension": ".py",
   "mimetype": "text/x-python",
   "name": "python",
   "nbconvert_exporter": "python",
   "pygments_lexer": "ipython3",
   "version": "3.10.9"
  }
 },
 "nbformat": 4,
 "nbformat_minor": 5
}
