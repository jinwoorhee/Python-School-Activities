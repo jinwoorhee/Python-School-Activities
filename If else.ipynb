{
 "cells": [
  {
   "cell_type": "code",
   "execution_count": 7,
   "id": "81b575ea",
   "metadata": {},
   "outputs": [
    {
     "name": "stdout",
     "output_type": "stream",
     "text": [
      "\\hello world\\\n",
      "\"nice fireworks\", said the mayor\n",
      "Happy 4th of July\n"
     ]
    }
   ],
   "source": [
    "print(\"\\\\hello world\\\\\")\n",
    "print(\"\\\"nice fireworks\\\", said the mayor\")\n",
    "print(\"Happy\", \"of July\", sep=\" 4th \")"
   ]
  },
  {
   "cell_type": "code",
   "execution_count": 9,
   "id": "6a52b310",
   "metadata": {},
   "outputs": [
    {
     "name": "stdout",
     "output_type": "stream",
     "text": [
      "The result is False\n"
     ]
    }
   ],
   "source": [
    "def function1(my_str):\n",
    "    if my_str == 'hello world':\n",
    "        result = True\n",
    "    else:\n",
    "        result = False\n",
    "    return result\n",
    "\n",
    "my_string = \"Hello World\"\n",
    "my_boolean = function1(my_string)\n",
    "print(\"The result is\", my_boolean)"
   ]
  },
  {
   "cell_type": "code",
   "execution_count": 11,
   "id": "6674286e",
   "metadata": {},
   "outputs": [
    {
     "ename": "SyntaxError",
     "evalue": "invalid syntax (361192027.py, line 1)",
     "output_type": "error",
     "traceback": [
      "\u001b[0;36m  Cell \u001b[0;32mIn[11], line 1\u001b[0;36m\u001b[0m\n\u001b[0;31m    my variable = 9 // 2\u001b[0m\n\u001b[0m       ^\u001b[0m\n\u001b[0;31mSyntaxError\u001b[0m\u001b[0;31m:\u001b[0m invalid syntax\n"
     ]
    }
   ],
   "source": [
    "my variable = 9 // 2\n",
    "\n",
    "print(my variable)"
   ]
  },
  {
   "cell_type": "code",
   "execution_count": 12,
   "id": "4f32671a",
   "metadata": {},
   "outputs": [
    {
     "name": "stdout",
     "output_type": "stream",
     "text": [
      "Outcome B\n"
     ]
    }
   ],
   "source": [
    "my_budget = 10\n",
    "\n",
    "if(my_budget !=10):\n",
    "    print(\"Outcome A\")\n",
    "elif (my_budget >=10):\n",
    "    print(\"Outcome B\")\n",
    "else:\n",
    "    print(\"Outcome C\")"
   ]
  },
  {
   "cell_type": "code",
   "execution_count": 14,
   "id": "1aed0734",
   "metadata": {},
   "outputs": [
    {
     "name": "stdout",
     "output_type": "stream",
     "text": [
      "Please enter an integer: 5\n"
     ]
    },
    {
     "ename": "NameError",
     "evalue": "name 'Return_Bool' is not defined",
     "output_type": "error",
     "traceback": [
      "\u001b[0;31m---------------------------------------------------------------------------\u001b[0m",
      "\u001b[0;31mNameError\u001b[0m                                 Traceback (most recent call last)",
      "Cell \u001b[0;32mIn[14], line 6\u001b[0m\n\u001b[1;32m      3\u001b[0m     \u001b[38;5;28;01mreturn\u001b[39;00m my_bool\n\u001b[1;32m      5\u001b[0m my_int \u001b[38;5;241m=\u001b[39m \u001b[38;5;28mint\u001b[39m(\u001b[38;5;28minput\u001b[39m(\u001b[38;5;124m\"\u001b[39m\u001b[38;5;124mPlease enter an integer: \u001b[39m\u001b[38;5;124m\"\u001b[39m))\n\u001b[0;32m----> 6\u001b[0m my_answer \u001b[38;5;241m=\u001b[39m \u001b[43mReturn_Bool\u001b[49m (my_int)\n\u001b[1;32m      7\u001b[0m \u001b[38;5;28mprint\u001b[39m(my_answer)\n",
      "\u001b[0;31mNameError\u001b[0m: name 'Return_Bool' is not defined"
     ]
    }
   ],
   "source": [
    "def Retrun_Bool (int_parameter):\n",
    "    my_bool = not (int_parameter == 5)\n",
    "    return my_bool\n",
    "\n",
    "my_int = int(input(\"Please enter an integer: \"))\n",
    "my_answer = Return_Bool (my_int)\n",
    "print(my_answer)"
   ]
  },
  {
   "cell_type": "code",
   "execution_count": 15,
   "id": "16752602",
   "metadata": {},
   "outputs": [
    {
     "name": "stdout",
     "output_type": "stream",
     "text": [
      "Outcome B\n",
      "Outcome C\n"
     ]
    }
   ],
   "source": [
    "a = 2\n",
    "b = 4\n",
    "\n",
    "if (a >= 1 and b !=4):\n",
    "    print (\"Outcome A\")\n",
    "elif (a == 2):\n",
    "    print (\"Outcome B\")\n",
    "    \n",
    "print(\"Outcome C\")"
   ]
  },
  {
   "cell_type": "code",
   "execution_count": 18,
   "id": "7295e3eb",
   "metadata": {},
   "outputs": [
    {
     "name": "stdout",
     "output_type": "stream",
     "text": [
      "7\n"
     ]
    }
   ],
   "source": [
    "a = 0\n",
    "\n",
    "for i in [1, 2, 4]:\n",
    "    a += i\n",
    "\n",
    "print(a)"
   ]
  },
  {
   "cell_type": "code",
   "execution_count": 21,
   "id": "2656e710",
   "metadata": {},
   "outputs": [
    {
     "name": "stdout",
     "output_type": "stream",
     "text": [
      "10\n"
     ]
    },
    {
     "ename": "NameError",
     "evalue": "name 'result' is not defined",
     "output_type": "error",
     "traceback": [
      "\u001b[0;31m---------------------------------------------------------------------------\u001b[0m",
      "\u001b[0;31mNameError\u001b[0m                                 Traceback (most recent call last)",
      "Cell \u001b[0;32mIn[21], line 7\u001b[0m\n\u001b[1;32m      3\u001b[0m     \u001b[38;5;28mprint\u001b[39m(result)\n\u001b[1;32m      5\u001b[0m show_double(\u001b[38;5;241m5\u001b[39m)\n\u001b[0;32m----> 7\u001b[0m \u001b[38;5;28mprint\u001b[39m (\u001b[43mresult\u001b[49m)\n",
      "\u001b[0;31mNameError\u001b[0m: name 'result' is not defined"
     ]
    }
   ],
   "source": [
    "def show_double(int_value):\n",
    "    result = int_value * 2\n",
    "    print(result)\n",
    "    \n",
    "show_double(5)\n",
    "\n",
    "print (result)"
   ]
  },
  {
   "cell_type": "code",
   "execution_count": 26,
   "id": "755ee5d6",
   "metadata": {},
   "outputs": [],
   "source": [
    "str_var = \"\"\"\n",
    "\n",
    "38907.05\n",
    "\n",
    "\"\"\""
   ]
  },
  {
   "cell_type": "code",
   "execution_count": null,
   "id": "156e29d1",
   "metadata": {},
   "outputs": [],
   "source": []
  },
  {
   "cell_type": "code",
   "execution_count": null,
   "id": "698e881b",
   "metadata": {},
   "outputs": [],
   "source": []
  }
 ],
 "metadata": {
  "kernelspec": {
   "display_name": "Python 3 (ipykernel)",
   "language": "python",
   "name": "python3"
  },
  "language_info": {
   "codemirror_mode": {
    "name": "ipython",
    "version": 3
   },
   "file_extension": ".py",
   "mimetype": "text/x-python",
   "name": "python",
   "nbconvert_exporter": "python",
   "pygments_lexer": "ipython3",
   "version": "3.10.9"
  }
 },
 "nbformat": 4,
 "nbformat_minor": 5
}
