{
 "cells": [
  {
   "cell_type": "code",
   "execution_count": 12,
   "id": "27378849",
   "metadata": {},
   "outputs": [
    {
     "name": "stdout",
     "output_type": "stream",
     "text": [
      "How many real numbers2\n",
      "What is your real number?2\n",
      "What is your real number?3\n"
     ]
    }
   ],
   "source": [
    "num_numbers=int(input('How many real numbers'))\n",
    "my_file=open('numbers.txt', 'w')\n",
    "for count in range(1, num_numbers+1):\n",
    "    real_numbers=float(input('What is your real number?'))\n",
    "    my_file.write(str(real_numbers)+ '\\n')\n",
    "my_file.close()"
   ]
  },
  {
   "cell_type": "code",
   "execution_count": 11,
   "id": "de1e5c6f",
   "metadata": {},
   "outputs": [
    {
     "ename": "AttributeError",
     "evalue": "'_io.TextIOWrapper' object has no attribute 'realine'",
     "output_type": "error",
     "traceback": [
      "\u001b[0;31m---------------------------------------------------------------------------\u001b[0m",
      "\u001b[0;31mAttributeError\u001b[0m                            Traceback (most recent call last)",
      "Cell \u001b[0;32mIn[11], line 3\u001b[0m\n\u001b[1;32m      1\u001b[0m my_file\u001b[38;5;241m=\u001b[39m\u001b[38;5;28mopen\u001b[39m(\u001b[38;5;124m'\u001b[39m\u001b[38;5;124mnumbers.txt\u001b[39m\u001b[38;5;124m'\u001b[39m, \u001b[38;5;124m'\u001b[39m\u001b[38;5;124mr\u001b[39m\u001b[38;5;124m'\u001b[39m)\n\u001b[1;32m      2\u001b[0m total\u001b[38;5;241m=\u001b[39m\u001b[38;5;241m0\u001b[39m\n\u001b[0;32m----> 3\u001b[0m line\u001b[38;5;241m=\u001b[39m\u001b[43mmy_file\u001b[49m\u001b[38;5;241;43m.\u001b[39;49m\u001b[43mrealine\u001b[49m()\n\u001b[1;32m      4\u001b[0m \u001b[38;5;28;01mtry\u001b[39;00m:\n\u001b[1;32m      5\u001b[0m     \u001b[38;5;28;01mwhile\u001b[39;00m line \u001b[38;5;241m!=\u001b[39m\u001b[38;5;124m'\u001b[39m\u001b[38;5;124m'\u001b[39m:\n",
      "\u001b[0;31mAttributeError\u001b[0m: '_io.TextIOWrapper' object has no attribute 'realine'"
     ]
    }
   ],
   "source": [
    "my_file=open('numbers.txt', 'r')\n",
    "total=0\n",
    "line=my_file.realine()\n",
    "try:\n",
    "    while line !='':\n",
    "        next_number=my_file.realine()\n",
    "        total+=float(next_number)\n",
    "    average=total/num_numbers\n",
    "except ValueError:\n",
    "    print('The file should contain numbers, not text')\n",
    "my_file.close()"
   ]
  },
  {
   "cell_type": "code",
   "execution_count": 13,
   "id": "8974c141",
   "metadata": {},
   "outputs": [
    {
     "name": "stdout",
     "output_type": "stream",
     "text": [
      "Cant read from a file if it does not exist.\n"
     ]
    }
   ],
   "source": [
    "try:\n",
    "    n_file=open(\"numbers4.txt\",\"r\")\n",
    "    line=n_file.realine()\n",
    "    total=0\n",
    "    average=0\n",
    "    count=0\n",
    "    while line !=\"\":\n",
    "        num= float(line)\n",
    "        total+=num\n",
    "        line=n_file.realine()\n",
    "        count+=1\n",
    "    average=total/count\n",
    "    \n",
    "    n_file.close()\n",
    "    print(\"The average of the numbers in the file: \", average)\n",
    "\n",
    "except FileNotFoundError:\n",
    "    print(\"Cant read from a file if it does not exist.\")\n",
    "    \n",
    "except ValueError:\n",
    "    print(\"The file should contain numbers, not text.\")"
   ]
  },
  {
   "cell_type": "code",
   "execution_count": null,
   "id": "73d5f6bd",
   "metadata": {},
   "outputs": [],
   "source": []
  },
  {
   "cell_type": "code",
   "execution_count": null,
   "id": "edf8f2b7",
   "metadata": {},
   "outputs": [],
   "source": []
  }
 ],
 "metadata": {
  "kernelspec": {
   "display_name": "Python 3 (ipykernel)",
   "language": "python",
   "name": "python3"
  },
  "language_info": {
   "codemirror_mode": {
    "name": "ipython",
    "version": 3
   },
   "file_extension": ".py",
   "mimetype": "text/x-python",
   "name": "python",
   "nbconvert_exporter": "python",
   "pygments_lexer": "ipython3",
   "version": "3.10.9"
  }
 },
 "nbformat": 4,
 "nbformat_minor": 5
}
