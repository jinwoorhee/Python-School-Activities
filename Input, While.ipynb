{
 "cells": [
  {
   "cell_type": "code",
   "execution_count": 1,
   "id": "2704ccfc",
   "metadata": {},
   "outputs": [
    {
     "name": "stdout",
     "output_type": "stream",
     "text": [
      "Please enter an integer greater than 5: 6\n"
     ]
    }
   ],
   "source": [
    "user_input = int(input(\"Please enter an integer greater than 5: \"))"
   ]
  },
  {
   "cell_type": "code",
   "execution_count": 8,
   "id": "06f1f885",
   "metadata": {},
   "outputs": [],
   "source": [
    "while (user_input <= 5):\n",
    "    print(\"ERROR\")\n",
    "    user_input = int(input(\"Please enter an integer greater than 5: \"))\n",
    "    "
   ]
  },
  {
   "cell_type": "code",
   "execution_count": 10,
   "id": "4bb20b9e",
   "metadata": {},
   "outputs": [],
   "source": [
    "while True:\n",
    "    if (5 < 7):\n",
    "        break"
   ]
  },
  {
   "cell_type": "code",
   "execution_count": null,
   "id": "7026b922",
   "metadata": {},
   "outputs": [],
   "source": []
  },
  {
   "cell_type": "code",
   "execution_count": null,
   "id": "ab408791",
   "metadata": {},
   "outputs": [],
   "source": []
  }
 ],
 "metadata": {
  "kernelspec": {
   "display_name": "Python 3 (ipykernel)",
   "language": "python",
   "name": "python3"
  },
  "language_info": {
   "codemirror_mode": {
    "name": "ipython",
    "version": 3
   },
   "file_extension": ".py",
   "mimetype": "text/x-python",
   "name": "python",
   "nbconvert_exporter": "python",
   "pygments_lexer": "ipython3",
   "version": "3.10.9"
  }
 },
 "nbformat": 4,
 "nbformat_minor": 5
}
