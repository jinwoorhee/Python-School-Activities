{
 "cells": [
  {
   "cell_type": "code",
   "execution_count": 2,
   "id": "f4bbcb65",
   "metadata": {},
   "outputs": [],
   "source": [
    "def PrintHappy4thOfJuly():\n",
    "    print(\"Happy Holidays!!\")\n",
    "    print(\"Happy Holidays\")"
   ]
  },
  {
   "cell_type": "code",
   "execution_count": 3,
   "id": "b0168644",
   "metadata": {},
   "outputs": [
    {
     "name": "stdout",
     "output_type": "stream",
     "text": [
      "Happy Holidays!!\n",
      "Happy Holidays\n"
     ]
    }
   ],
   "source": [
    "PrintHappy4thOfJuly()"
   ]
  },
  {
   "cell_type": "code",
   "execution_count": 5,
   "id": "9b67ff32",
   "metadata": {},
   "outputs": [],
   "source": [
    "def PrintHappy4thOfJuly():\n",
    "    print(\"Happy Half day!!\")\n",
    "    print(\"Happy Holidays\")"
   ]
  },
  {
   "cell_type": "code",
   "execution_count": 7,
   "id": "9ab4eb7b",
   "metadata": {},
   "outputs": [
    {
     "name": "stdout",
     "output_type": "stream",
     "text": [
      "Happy Half day!!\n",
      "Happy Holidays\n"
     ]
    }
   ],
   "source": [
    "PrintHappy4thOfJuly()"
   ]
  },
  {
   "cell_type": "code",
   "execution_count": 10,
   "id": "994a9773",
   "metadata": {},
   "outputs": [],
   "source": [
    "# How to define and call functions.\n",
    "#Passing arguments to functions.\n",
    "#Value-returning functions.\n",
    "\n",
    "#Local and global variables.\n",
    "#The import statement."
   ]
  },
  {
   "cell_type": "code",
   "execution_count": 11,
   "id": "15167e01",
   "metadata": {},
   "outputs": [],
   "source": [
    "def PrintHappy4thOfJuly():\n",
    "    print(\"Happy Half day!!\")\n",
    "    print(\"Happy Holidays\")"
   ]
  },
  {
   "cell_type": "code",
   "execution_count": 13,
   "id": "e6995990",
   "metadata": {},
   "outputs": [
    {
     "name": "stdout",
     "output_type": "stream",
     "text": [
      "5 10 15 20 "
     ]
    }
   ],
   "source": [
    "def print_range():\n",
    "    for num in range(5, 21, 5):\n",
    "        print(num, end=' ')\n",
    "print_range()"
   ]
  },
  {
   "cell_type": "code",
   "execution_count": 14,
   "id": "14740b8b",
   "metadata": {},
   "outputs": [],
   "source": [
    "#Passing Arguments to Functions"
   ]
  },
  {
   "cell_type": "code",
   "execution_count": 33,
   "id": "085c5ec1",
   "metadata": {},
   "outputs": [],
   "source": [
    " def AddTwoNumbers(firstNumber, secondNumber):\n",
    "        result=firstNumber+secondNumber\n",
    "        return result"
   ]
  },
  {
   "cell_type": "code",
   "execution_count": 34,
   "id": "7446b0b0",
   "metadata": {},
   "outputs": [
    {
     "name": "stdout",
     "output_type": "stream",
     "text": [
      "The sum of 9 and 2 is 11\n"
     ]
    }
   ],
   "source": [
    "mySum = AddTwoNumbers(secondNumber=9, firstNumber=2)\n",
    "print(\"The sum of 9 and 2 is\", mySum)"
   ]
  },
  {
   "cell_type": "code",
   "execution_count": 24,
   "id": "77933ac3",
   "metadata": {},
   "outputs": [],
   "source": [
    "def PrintCharacter(interestingCharacter):\n",
    "    print(interestingCharacter)"
   ]
  },
  {
   "cell_type": "code",
   "execution_count": 25,
   "id": "90b3532e",
   "metadata": {},
   "outputs": [
    {
     "name": "stdout",
     "output_type": "stream",
     "text": [
      "$\n"
     ]
    }
   ],
   "source": [
    "PrintCharacter('$')"
   ]
  },
  {
   "cell_type": "code",
   "execution_count": 35,
   "id": "8ca9a381",
   "metadata": {},
   "outputs": [],
   "source": [
    "#Passing Multiple Positional Arguments"
   ]
  },
  {
   "cell_type": "code",
   "execution_count": 36,
   "id": "77cc013c",
   "metadata": {},
   "outputs": [],
   "source": [
    "def main():\n",
    "    print('The sum of 12 and 45 is')\n",
    "    show_sum(12, 45)\n",
    "def show_sum(num1, num2):\n",
    "    result = num1 + num2\n",
    "    print(result)"
   ]
  },
  {
   "cell_type": "code",
   "execution_count": 37,
   "id": "37f6121b",
   "metadata": {},
   "outputs": [
    {
     "ename": "SyntaxError",
     "evalue": "incomplete input (1520610203.py, line 3)",
     "output_type": "error",
     "traceback": [
      "\u001b[0;36m  Cell \u001b[0;32mIn[37], line 3\u001b[0;36m\u001b[0m\n\u001b[0;31m    \u001b[0m\n\u001b[0m    ^\u001b[0m\n\u001b[0;31mSyntaxError\u001b[0m\u001b[0;31m:\u001b[0m incomplete input\n"
     ]
    }
   ],
   "source": [
    "#Keyword Arguments\n",
    "def print_stars(num_stars, separator):\n",
    "    "
   ]
  },
  {
   "cell_type": "code",
   "execution_count": 38,
   "id": "88478c9b",
   "metadata": {},
   "outputs": [],
   "source": [
    "#Local Variable"
   ]
  },
  {
   "cell_type": "code",
   "execution_count": 39,
   "id": "29c5a240",
   "metadata": {},
   "outputs": [
    {
     "ename": "NameError",
     "evalue": "name 'result' is not defined",
     "output_type": "error",
     "traceback": [
      "\u001b[0;31m---------------------------------------------------------------------------\u001b[0m",
      "\u001b[0;31mNameError\u001b[0m                                 Traceback (most recent call last)",
      "Cell \u001b[0;32mIn[39], line 1\u001b[0m\n\u001b[0;32m----> 1\u001b[0m \u001b[38;5;28mprint\u001b[39m(\u001b[43mresult\u001b[49m)\n",
      "\u001b[0;31mNameError\u001b[0m: name 'result' is not defined"
     ]
    }
   ],
   "source": [
    "print(result)"
   ]
  },
  {
   "cell_type": "code",
   "execution_count": 40,
   "id": "b03daa2a",
   "metadata": {},
   "outputs": [],
   "source": [
    "#Local Variables of the Same Name\n",
    "example_local()\n",
    "another_example()"
   ]
  },
  {
   "cell_type": "code",
   "execution_count": 41,
   "id": "66b09b20",
   "metadata": {},
   "outputs": [],
   "source": [
    "#Global Variable"
   ]
  },
  {
   "cell_type": "code",
   "execution_count": 43,
   "id": "c0ccc92d",
   "metadata": {},
   "outputs": [
    {
     "name": "stdout",
     "output_type": "stream",
     "text": [
      "10\n",
      "My value =  10\n"
     ]
    }
   ],
   "source": [
    "my_value = 10\n",
    "\n",
    "def show_value():\n",
    "    print(my_value)\n",
    "\n",
    "show_value()\n",
    "\n",
    "print(\"My value = \", my_value)"
   ]
  },
  {
   "cell_type": "markdown",
   "id": "b5f04e73",
   "metadata": {},
   "source": [
    "#Random number Generation\n",
    "#Import random"
   ]
  },
  {
   "cell_type": "code",
   "execution_count": 44,
   "id": "7dc29baf",
   "metadata": {},
   "outputs": [
    {
     "ename": "NameError",
     "evalue": "name 'random' is not defined",
     "output_type": "error",
     "traceback": [
      "\u001b[0;31m---------------------------------------------------------------------------\u001b[0m",
      "\u001b[0;31mNameError\u001b[0m                                 Traceback (most recent call last)",
      "Cell \u001b[0;32mIn[44], line 1\u001b[0m\n\u001b[0;32m----> 1\u001b[0m \u001b[43mrandom\u001b[49m\u001b[38;5;241m.\u001b[39mrandint(\u001b[38;5;241m0\u001b[39m,\u001b[38;5;241m5\u001b[39m)\n",
      "\u001b[0;31mNameError\u001b[0m: name 'random' is not defined"
     ]
    }
   ],
   "source": [
    "random.randint(0,5)"
   ]
  },
  {
   "cell_type": "code",
   "execution_count": 46,
   "id": "0f4e94e3",
   "metadata": {},
   "outputs": [
    {
     "data": {
      "text/plain": [
       "4"
      ]
     },
     "execution_count": 46,
     "metadata": {},
     "output_type": "execute_result"
    }
   ],
   "source": [
    "import random\n",
    "random.randint(0,5) "
   ]
  },
  {
   "cell_type": "code",
   "execution_count": 51,
   "id": "bf0c2f19",
   "metadata": {},
   "outputs": [
    {
     "data": {
      "text/plain": [
       "4"
      ]
     },
     "execution_count": 51,
     "metadata": {},
     "output_type": "execute_result"
    }
   ],
   "source": [
    "random.randrange(0, 5, 2)"
   ]
  },
  {
   "cell_type": "code",
   "execution_count": 52,
   "id": "eaa813fe",
   "metadata": {},
   "outputs": [
    {
     "data": {
      "text/plain": [
       "0.017297667903710012"
      ]
     },
     "execution_count": 52,
     "metadata": {},
     "output_type": "execute_result"
    }
   ],
   "source": [
    "random.random() #random float from 0.0 to 1.0"
   ]
  },
  {
   "cell_type": "code",
   "execution_count": 57,
   "id": "0a36c3b7",
   "metadata": {},
   "outputs": [
    {
     "data": {
      "text/plain": [
       "69.29243784936837"
      ]
     },
     "execution_count": 57,
     "metadata": {},
     "output_type": "execute_result"
    }
   ],
   "source": [
    "random.random() * 100"
   ]
  },
  {
   "cell_type": "code",
   "execution_count": null,
   "id": "2f4779b2",
   "metadata": {},
   "outputs": [],
   "source": []
  }
 ],
 "metadata": {
  "kernelspec": {
   "display_name": "Python 3 (ipykernel)",
   "language": "python",
   "name": "python3"
  },
  "language_info": {
   "codemirror_mode": {
    "name": "ipython",
    "version": 3
   },
   "file_extension": ".py",
   "mimetype": "text/x-python",
   "name": "python",
   "nbconvert_exporter": "python",
   "pygments_lexer": "ipython3",
   "version": "3.10.9"
  }
 },
 "nbformat": 4,
 "nbformat_minor": 5
}
