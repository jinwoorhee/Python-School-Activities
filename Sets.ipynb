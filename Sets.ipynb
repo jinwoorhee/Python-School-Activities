{
 "cells": [
  {
   "cell_type": "code",
   "execution_count": 4,
   "id": "63faee7c",
   "metadata": {},
   "outputs": [
    {
     "name": "stdout",
     "output_type": "stream",
     "text": [
      "{'Cork', 'Paris', 'New York', 'Amsterdam'}\n",
      "Cork\n",
      "Paris\n",
      "New York\n",
      "Amsterdam\n",
      "Paris is lovely\n",
      "Number of elements in cities:  4\n"
     ]
    }
   ],
   "source": [
    "cities = set()\n",
    "\n",
    "cities.add(\"Paris\")\n",
    "cities.add(\"Cork\")\n",
    "\n",
    "cities.update({\"New York\", \"Amsterdam\"})\n",
    "\n",
    "print(cities)\n",
    "\n",
    "for city in cities:\n",
    "    print(city)\n",
    "    \n",
    "if(\"Paris\" in cities):\n",
    "    print(\"Paris is lovely\")\n",
    "\n",
    "print(\"Number of elements in cities: \", len(cities))\n",
    "\n",
    "cities.clear()"
   ]
  },
  {
   "cell_type": "code",
   "execution_count": null,
   "id": "2adef8bc",
   "metadata": {},
   "outputs": [],
   "source": []
  }
 ],
 "metadata": {
  "kernelspec": {
   "display_name": "Python 3 (ipykernel)",
   "language": "python",
   "name": "python3"
  },
  "language_info": {
   "codemirror_mode": {
    "name": "ipython",
    "version": 3
   },
   "file_extension": ".py",
   "mimetype": "text/x-python",
   "name": "python",
   "nbconvert_exporter": "python",
   "pygments_lexer": "ipython3",
   "version": "3.10.9"
  }
 },
 "nbformat": 4,
 "nbformat_minor": 5
}
