{
  "nbformat": 4,
  "nbformat_minor": 0,
  "metadata": {
    "colab": {
      "provenance": []
    },
    "kernelspec": {
      "name": "python3",
      "display_name": "Python 3"
    },
    "language_info": {
      "name": "python"
    }
  },
  "cells": [
    {
      "cell_type": "code",
      "source": [
        "#Leap Year\n",
        "\n",
        "year =  int(input())\n",
        "\n",
        "if year % 4 == 0: # the reason why we put == instead of = is that it represents remainder. on every year that is divisible by 4 with no remainder\n",
        "  if year % 100 == 0: # except every year that is evenly divisible by 100 with no remainer\n",
        "    #Not a leap year, unless special case\n",
        "    if year % 400 == 0: # unless the year is also divisible by 400 with no remainder.\n",
        "      print(\"Leap year\")\n",
        "    else:\n",
        "        print(\"Not leap year\")\n",
        "  else:\n",
        "    print(\"Leap Year\")\n",
        "else:\n",
        "  print(\"Not leap year\")"
      ],
      "metadata": {
        "id": "BOkkB1COg0Ph",
        "colab": {
          "base_uri": "https://localhost:8080/"
        },
        "outputId": "56c64770-0121-4ac5-d0cd-80b1fb49593f"
      },
      "execution_count": 2,
      "outputs": [
        {
          "output_type": "stream",
          "name": "stdout",
          "text": [
            "4\n",
            "Leap Year\n"
          ]
        }
      ]
    },
    {
      "cell_type": "code",
      "source": [
        "\"\"\" if / elif / else\n",
        "if condition1:\n",
        "  do A\n",
        "elif condition2:    # Only execute one of A, B, C condition\n",
        "  do B\n",
        "else:\n",
        "  do C\n",
        "\n",
        "Multiple if\n",
        "\n",
        "if condition1:\n",
        "  do A\n",
        "if condition2:    # execute by step by step\n",
        "  do B\n",
        "if condition3:\n",
        "  do C\n",
        "\"\"\""
      ],
      "metadata": {
        "id": "XuuojoW7UZIm",
        "colab": {
          "base_uri": "https://localhost:8080/",
          "height": 53
        },
        "outputId": "63e19b15-effe-44e1-f318-b597f7d2ff96"
      },
      "execution_count": 5,
      "outputs": [
        {
          "output_type": "execute_result",
          "data": {
            "text/plain": [
              "' if / elif / else\\nif condition1:\\n  do A\\nelif condition2:    # Only execute one of A, B, C condition\\n  do B\\nelse:\\n  do C\\n\\nMultiple if\\n\\nif condition1:\\n  do A\\nif condition2:    # execute by step by step\\n  do B\\nif condition3:\\n  do C \\n'"
            ],
            "application/vnd.google.colaboratory.intrinsic+json": {
              "type": "string"
            }
          },
          "metadata": {},
          "execution_count": 5
        }
      ]
    },
    {
      "cell_type": "code",
      "source": [
        "#rollercoaster\n",
        "\n",
        "print(\"Welcome to the rollercoaster!\")\n",
        "height = int(input(\"What is your heigh in cm? \"))\n",
        "bill = 0\n",
        "\n",
        "if height >= 120:\n",
        "  print(\"You can ride the rollercoaster!\")\n",
        "  age = int(input(\"What is your age? \"))\n",
        "  if age < 12:\n",
        "    bill = 5\n",
        "    print(\"Child tickets are $5.\")\n",
        "  elif age <= 18:\n",
        "    bill = 7\n",
        "    print(\"Youth Tickets are $7.\")\n",
        "  else:\n",
        "    bill = 12\n",
        "    print(\"Adult tickets are $12.\")\n",
        "\n",
        "  wants_photo = input(\"Do you want a photo taken? Y or N. \")\n",
        "  if wants_photo == \"Y\":\n",
        "    bill += 3 #add $3 to their bill\n",
        "\n",
        "  print(f\"Your final bill is ${bill}\")   # not indented as same level, execute after if statement executed\n",
        "\n",
        "else:\n",
        "  print(\"Sorry, you have to grow taller before you can ride.\")"
      ],
      "metadata": {
        "id": "lCm2EhlIWHW4",
        "colab": {
          "base_uri": "https://localhost:8080/"
        },
        "outputId": "2f5bae6b-8037-40e7-af98-8f798d37746c"
      },
      "execution_count": 4,
      "outputs": [
        {
          "output_type": "stream",
          "name": "stdout",
          "text": [
            "Welcome to the rollercoaster!\n",
            "What is your heigh in cm? 176\n",
            "You can ride the rollercoaster!\n",
            "What is your age? 24\n",
            "Adult tickets are $12.\n",
            "Do you want a photo taken? Y or N. Y\n",
            "Your final bill is $15\n"
          ]
        }
      ]
    },
    {
      "cell_type": "code",
      "source": [
        "#Pizza Order\n",
        "\n",
        "print(\"Thank you for choosing Python Pizza Deliveries!\")\n",
        "size = input() # What size pizza do you want? S, M, or L\n",
        "add_pepperoni = input() # Do you want pepperoni? Y or N\n",
        "extra_cheese = input() # Do you want extra cheese? Y or N\n",
        "# 🚨 Don't change the code above 👆\n",
        "# Write your code below this line 👇\n",
        "bill = 0    # create variable \"bill\" to tracking the price of pizza\n",
        "if size == 'S':\n",
        "    bill += 15\n",
        "elif size == 'M':       # distinguish the size of pizza\n",
        "    bill += 20\n",
        "else:\n",
        "    bill += 25\n",
        "\n",
        "if add_pepperoni == \"Y\":\n",
        "    if size == 'S':\n",
        "        bill += 2           # if add pepperoni, check the size. S for $2 others for $3\n",
        "    else:\n",
        "        bill += 3\n",
        "\n",
        "if extra_cheese == \"Y\":\n",
        "    bill += 1                 # just chekcing whether the last statement is Yes\n",
        "\n",
        "print(f\"Your final bill is: ${bill}.\")    # all add up become final price"
      ],
      "metadata": {
        "id": "LqbBUSnPbnaG",
        "colab": {
          "base_uri": "https://localhost:8080/"
        },
        "outputId": "75735490-cb5c-4454-b663-33e15c599b3a"
      },
      "execution_count": 6,
      "outputs": [
        {
          "output_type": "stream",
          "name": "stdout",
          "text": [
            "Thank you for choosing Python Pizza Deliveries!\n",
            "S\n",
            "Y\n",
            "Y\n",
            "Your final bill is: $18.\n"
          ]
        }
      ]
    }
  ]
}