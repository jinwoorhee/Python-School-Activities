{
  "nbformat": 4,
  "nbformat_minor": 0,
  "metadata": {
    "colab": {
      "provenance": []
    },
    "kernelspec": {
      "name": "python3",
      "display_name": "Python 3"
    },
    "language_info": {
      "name": "python"
    }
  },
  "cells": [
    {
      "cell_type": "code",
      "execution_count": 3,
      "metadata": {
        "id": "Bj3DwHuIH6Y_",
        "colab": {
          "base_uri": "https://localhost:8080/"
        },
        "outputId": "c3f76344-cdb4-487b-86e8-9abcb547b4f4"
      },
      "outputs": [
        {
          "output_type": "stream",
          "name": "stdout",
          "text": [
            "Delaware\n",
            "Pennsylvania\n",
            "['Delaware', 'Pencilvania', 'Angelaland', 'a', 'b', 'c']\n"
          ]
        }
      ],
      "source": [
        "# List Basics: Creating and Manipulating Lists\n",
        "states_of_america = [\"Delaware\", \"Pennsylvania\"]\n",
        "\n",
        "# Accessing list elements using index\n",
        "print(states_of_america[0])  # Output: Delaware\n",
        "\n",
        "# Negative indexing: Access last element\n",
        "print(states_of_america[-1])  # Output: Pennsylvania\n",
        "\n",
        "# Change the value at index 1\n",
        "states_of_america[1] = \"Pencilvania\"\n",
        "\n",
        "# Append a new element to the list\n",
        "states_of_america.append(\"Angelaland\")\n",
        "\n",
        "# Extend the list by adding multiple elements\n",
        "states_of_america.extend([\"a\", \"b\", \"c\"])\n",
        "\n",
        "print(states_of_america)  # Output: ['Delaware', 'Pencilvania', 'Angelaland', 'a', 'b', 'c']"
      ]
    },
    {
      "cell_type": "code",
      "source": [
        "# Random Selection from a List\n",
        "names_string = input(\"Enter a list of names separated by a comma: \")\n",
        "names = names_string.split(\", \")\n",
        "# The code above converts the input into an array separating each name by a comma and space.\n",
        "\n",
        "import random\n",
        "\n",
        "# Get the total number of items in the list.\n",
        "num_items = len(names)\n",
        "# Generate random numbers between 0 and the last index.\n",
        "random_choice = random.randint(0, num_items - 1)\n",
        "# Pick out random person from the list of names using the random number.\n",
        "person_who_will_pay = names[random_choice]\n",
        "\n",
        "print(person_who_will_pay + \" is going to buy the meal today!\")"
      ],
      "metadata": {
        "id": "e77O80ekKGwA",
        "colab": {
          "base_uri": "https://localhost:8080/"
        },
        "outputId": "2cfda9cb-795f-4057-b8aa-1ec32bc35248"
      },
      "execution_count": 4,
      "outputs": [
        {
          "output_type": "stream",
          "name": "stdout",
          "text": [
            "Enter a list of names separated by a comma: Delaware, Pencilvania, Angelaland\n",
            "Angelaland is going to buy the meal today!\n"
          ]
        }
      ]
    },
    {
      "cell_type": "code",
      "source": [
        "# Treasure Map Game\n",
        "line1 = [\"⬜️\", \"️⬜️\", \"️⬜️\"]\n",
        "line2 = [\"⬜️\", \"⬜️\", \"️⬜️\"]\n",
        "line3 = [\"⬜️️\", \"⬜️️\", \"⬜️️\"]\n",
        "map = [line1, line2, line3]\n",
        "\n",
        "print(\"Hiding your treasure! X marks the spot.\")\n",
        "position = input(\"Enter the position to place the treasure (e.g., a2, b3): \")  # Where do you want to put the treasure?\n",
        "\n",
        "# Extract the letter and number from the input\n",
        "letter = position[0].lower()  # Get the letter at the first index and convert it to lowercase\n",
        "abc = [\"a\", \"b\", \"c\"]  # Valid column letters\n",
        "letter_index = abc.index(letter)  # Get the index corresponding to the column\n",
        "number_index = int(position[1]) - 1  # Convert the row number to a zero-based index\n",
        "\n",
        "# Place the 'X' in the specified position\n",
        "map[number_index][letter_index] = \"X\"\n",
        "\n",
        "# Print the updated map\n",
        "print(f\"{line1}\\n{line2}\\n{line3}\")"
      ],
      "metadata": {
        "colab": {
          "base_uri": "https://localhost:8080/"
        },
        "id": "NJCD2HecRELp",
        "outputId": "bc715ebb-9ed9-40a1-aa06-bac3990a76d2"
      },
      "execution_count": 5,
      "outputs": [
        {
          "output_type": "stream",
          "name": "stdout",
          "text": [
            "Hiding your treasure! X marks the spot.\n",
            "Enter the position to place the treasure (e.g., a2, b3): a2, b3\n",
            "['⬜️', '️⬜️', '️⬜️']\n",
            "['X', '⬜️', '️⬜️']\n",
            "['⬜️️', '⬜️️', '⬜️️']\n"
          ]
        }
      ]
    }
  ]
}