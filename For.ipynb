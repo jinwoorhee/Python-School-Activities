{
 "cells": [
  {
   "cell_type": "code",
   "execution_count": 1,
   "id": "3673a85c",
   "metadata": {},
   "outputs": [
    {
     "name": "stdout",
     "output_type": "stream",
     "text": [
      "Enter the number of real numbers you want to write: 2\n",
      "Enter real number 1: 2\n",
      "Enter real number 2: 4\n",
      "Numbers have been written to numbers.txt successfully.\n"
     ]
    }
   ],
   "source": [
    "try:\n",
    "    num_of_numbers = int(input(\"Enter the number of real numbers you want to write: \"))\n",
    "    with open(\"numbers.txt\", \"w\") as file:\n",
    "        for i in range(num_of_numbers):\n",
    "            num = input(f\"Enter real number {i + 1}: \")\n",
    "            file.write(num + \"\\n\")\n",
    "    print(\"Numbers have been written to numbers.txt successfully.\")\n",
    "except ValueError:\n",
    "    print(\"Invalid input. Please enter a valid number.\")\n",
    "except Exception as e:\n",
    "    print(f\"An error occurred: {e}\")"
   ]
  },
  {
   "cell_type": "code",
   "execution_count": 3,
   "id": "793116a1",
   "metadata": {},
   "outputs": [
    {
     "name": "stdout",
     "output_type": "stream",
     "text": [
      "The average of the numbers in numbers.txt is: 3.00\n"
     ]
    }
   ],
   "source": [
    "try:\n",
    "    total_sum = 0\n",
    "    num_count = 0\n",
    "\n",
    "    with open(\"numbers.txt\", \"r\") as file:\n",
    "        for line in file:\n",
    "            try:\n",
    "                number = float(line.strip())\n",
    "                total_sum += number\n",
    "                num_count += 1\n",
    "            except ValueError:\n",
    "                print(\"The file should contain numbers, not text.\")\n",
    "                exit(1)\n",
    "\n",
    "    if num_count == 0:\n",
    "        print(\"The file is empty.\")\n",
    "    else:\n",
    "        average = total_sum / num_count\n",
    "        print(f\"The average of the numbers in numbers.txt is: {average:.2f}\")\n",
    "\n",
    "except FileNotFoundError:\n",
    "    print(\"Can't read from a file if it does not exist.\")\n",
    "except Exception as e:\n",
    "    print(f\"An error occurred: {e}\")"
   ]
  },
  {
   "cell_type": "code",
   "execution_count": null,
   "id": "2d2d8ca4",
   "metadata": {},
   "outputs": [],
   "source": []
  }
 ],
 "metadata": {
  "kernelspec": {
   "display_name": "Python 3 (ipykernel)",
   "language": "python",
   "name": "python3"
  },
  "language_info": {
   "codemirror_mode": {
    "name": "ipython",
    "version": 3
   },
   "file_extension": ".py",
   "mimetype": "text/x-python",
   "name": "python",
   "nbconvert_exporter": "python",
   "pygments_lexer": "ipython3",
   "version": "3.10.9"
  }
 },
 "nbformat": 4,
 "nbformat_minor": 5
}
