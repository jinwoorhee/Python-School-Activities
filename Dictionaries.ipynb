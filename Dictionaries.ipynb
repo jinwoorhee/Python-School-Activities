{
 "cells": [
  {
   "cell_type": "code",
   "execution_count": 2,
   "id": "e737f186",
   "metadata": {},
   "outputs": [
    {
     "data": {
      "text/plain": [
       "True"
      ]
     },
     "execution_count": 2,
     "metadata": {},
     "output_type": "execute_result"
    }
   ],
   "source": [
    "    tel = {'jack': 4098, 'sape': 4139}\n",
    "    tel['guido'] = 4127\n",
    "    tel\n",
    "{'sape': 4139, 'guido': 4127, 'jack': 4098}\n",
    "    tel['jack']\n",
    "4098\n",
    "    del tel['sape']\n",
    "    tel['irv'] = 4127\n",
    "    tel\n",
    "{'guido': 4127, 'irv': 4127, 'jack': 4098}\n",
    "    tel.keys()\n",
    "['guido', 'irv', 'jack']\n",
    "    'guido' in tel\n",
    "True"
   ]
  },
  {
   "cell_type": "code",
   "execution_count": null,
   "id": "9af0cbd2",
   "metadata": {},
   "outputs": [],
   "source": []
  }
 ],
 "metadata": {
  "kernelspec": {
   "display_name": "Python 3 (ipykernel)",
   "language": "python",
   "name": "python3"
  },
  "language_info": {
   "codemirror_mode": {
    "name": "ipython",
    "version": 3
   },
   "file_extension": ".py",
   "mimetype": "text/x-python",
   "name": "python",
   "nbconvert_exporter": "python",
   "pygments_lexer": "ipython3",
   "version": "3.10.9"
  }
 },
 "nbformat": 4,
 "nbformat_minor": 5
}
